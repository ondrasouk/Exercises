{
 "cells": [
  {
   "cell_type": "markdown",
   "metadata": {
    "id": "kr883cxr2w1g"
   },
   "source": [
    "# MPA-MLF, Lab 5 - Feedforward Neural Networks"
   ]
  },
  {
   "cell_type": "markdown",
   "metadata": {
    "id": "xWKpUeA1J8Sv"
   },
   "source": [
    "These exercises are focused on dealing with neural networks. It is strongly recommended to use google collab for these pc labs. Why? Google collab offers a free GPU capacity to train machine learning models. Training NN on GPU can drastically speed up the training process. You can turn on the GPU accelerator in: Runtime -> Change runtime type -> GPU, "
   ]
  },
  {
   "cell_type": "markdown",
   "metadata": {
    "id": "ejOYhsl_KlHt"
   },
   "source": [
    "## Exercise 1 - XOR problem"
   ]
  },
  {
   "cell_type": "markdown",
   "metadata": {
    "id": "CLfjemjJKuPV"
   },
   "source": [
    "During the last lecture, we saw that the single perceptron model with a step function could be used only for solving linearly-separable classification problems. Because of that, a single perceptron can not be trained to be able to behave like an XOR gate. To approximate the XOR gate using a neural network, we need to use the following structure:"
   ]
  },
  {
   "cell_type": "markdown",
   "metadata": {
    "id": "N7hCklzwNm_9"
   },
   "source": [
    "![nn.png](data:image/png;base64,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)"
   ]
  },
  {
   "cell_type": "markdown",
   "metadata": {
    "id": "XyWI7oiCQsPT"
   },
   "source": [
    "The above structure contains three layers: two neurons in the input layer (blue), two in the hidden layer and one in the output layer (yellow). The input layer represents the identity functions (the outputs are equal to the inputs)"
   ]
  },
  {
   "cell_type": "markdown",
   "metadata": {
    "id": "dBGB2Zq4CN0z"
   },
   "source": [
    "We will use *Keras* API to build and train our neural network. Keras is an open-source neural network library written in Python. It is designed to enable fast experimentation with deep neural networks and provides a high-level API for building and training neural networks. "
   ]
  },
  {
   "cell_type": "markdown",
   "metadata": {
    "id": "TiMMyX7B2zUw"
   },
   "source": [
    "### 0. First import libraries "
   ]
  },
  {
   "cell_type": "code",
   "execution_count": 1,
   "metadata": {
    "id": "FzC8HPME2pgP"
   },
   "outputs": [
    {
     "name": "stderr",
     "output_type": "stream",
     "text": [
      "2023-03-09 10:30:20.971016: I tensorflow/core/platform/cpu_feature_guard.cc:193] This TensorFlow binary is optimized with oneAPI Deep Neural Network Library (oneDNN) to use the following CPU instructions in performance-critical operations:  AVX2 FMA\n",
      "To enable them in other operations, rebuild TensorFlow with the appropriate compiler flags.\n"
     ]
    }
   ],
   "source": [
    "from tensorflow.keras.models import Sequential\n",
    "from tensorflow.keras.layers import Dense\n",
    "import tensorflow as tf\n",
    "import matplotlib.pyplot as plt"
   ]
  },
  {
   "cell_type": "markdown",
   "metadata": {
    "id": "mnLbt_-U2_4Y"
   },
   "source": [
    "### 1. prepare data"
   ]
  },
  {
   "cell_type": "markdown",
   "metadata": {
    "id": "-kwB40qi5cQr"
   },
   "source": [
    "In this part, the task would be to prepade our dataset, basically it is the logic table for *XOR* function"
   ]
  },
  {
   "cell_type": "code",
   "execution_count": 2,
   "metadata": {
    "id": "gWLETf7k2wiY"
   },
   "outputs": [],
   "source": [
    "X = [[0, 0], [0, 1], [1, 0], [1, 1]]\n",
    "y = [0, 1, 1, 0]"
   ]
  },
  {
   "cell_type": "markdown",
   "metadata": {
    "id": "dJ5ZwSDU3Qho"
   },
   "source": [
    "### 2. Creating the model"
   ]
  },
  {
   "cell_type": "markdown",
   "metadata": {
    "id": "7Otl0iDM5lHm"
   },
   "source": [
    "To create a model of NN that is in the picture above, run the following cell"
   ]
  },
  {
   "cell_type": "code",
   "execution_count": 3,
   "metadata": {
    "id": "RpAah84r2vyw"
   },
   "outputs": [
    {
     "name": "stderr",
     "output_type": "stream",
     "text": [
      "2023-03-09 10:30:23.033108: I tensorflow/core/platform/cpu_feature_guard.cc:193] This TensorFlow binary is optimized with oneAPI Deep Neural Network Library (oneDNN) to use the following CPU instructions in performance-critical operations:  AVX2 FMA\n",
      "To enable them in other operations, rebuild TensorFlow with the appropriate compiler flags.\n"
     ]
    }
   ],
   "source": [
    "model = Sequential()\n",
    "model.add(Dense(2, input_dim=2, activation='sigmoid'))\n",
    "model.add(Dense(1, activation='sigmoid'))"
   ]
  },
  {
   "cell_type": "markdown",
   "metadata": {
    "id": "ZoBvH8UQDM95"
   },
   "source": [
    "**Sequential** is a model type used in Keras for building feedforward neural networks. It is called \"sequential\" because the layers are stacked sequentially on top of each other, and the output of one layer is passed as input to the next layer.\n",
    "\n",
    "To create a sequential model, instantiate a Sequential object and then add layers to it using the **add()** method. There are many layers that Keras offers. We will use *Dense layer*\n",
    "\n",
    "**Dense layer** represents a fully connected layer, which means that every neuron in the layer is connected to every neuron in the previous layer. In each layer, we will specify an activation function and the number of neurons that layer contains. The input layer is not defined as a dense layer, but instead of that, we will specify the *input_dim* parameter in the layer that follows the input layer. *input_dim* parameter specifies the number of neurons in the input layer"
   ]
  },
  {
   "cell_type": "markdown",
   "metadata": {
    "id": "rtNu4JiE3XVw"
   },
   "source": [
    "### 3. Compile the model"
   ]
  },
  {
   "cell_type": "markdown",
   "metadata": {
    "id": "lHk2-s3V5_Hb"
   },
   "source": [
    "To compile yor model run:"
   ]
  },
  {
   "cell_type": "code",
   "execution_count": 4,
   "metadata": {
    "id": "GCKtEOAf3awX"
   },
   "outputs": [],
   "source": [
    "optimizer = tf.keras.optimizers.SGD(learning_rate=0.5)\n",
    "model.compile(loss='binary_crossentropy', optimizer=optimizer, metrics=['accuracy'])"
   ]
  },
  {
   "cell_type": "markdown",
   "metadata": {
    "id": "7pf4-t6PGDEv"
   },
   "source": [
    "**keras.complile()** is used to configure the learning process before training the model. \n",
    "We need to specify 3 parameters:\n",
    "- *loss*, *optimizer* and *metrics*\n",
    "\n",
    "- as our loss function (error function/objective function), we will choose *binary_crossentropy* - loss function often used for binary classification\n",
    "\n",
    "- *optimizer* is optimization algorithm used for optimizing weights in our training process, we will choose *stochastic gradient descent* \n",
    "\n",
    "- *metrics* is metric user for model evaluation\n"
   ]
  },
  {
   "cell_type": "markdown",
   "metadata": {
    "id": "oY0oJ_g13d7o"
   },
   "source": [
    "### 4. Model training"
   ]
  },
  {
   "cell_type": "markdown",
   "metadata": {
    "id": "7dX_p6mn4aoX"
   },
   "source": [
    "In the lecture, we talked about training the Multi-layer perceptron. The training process consists of the following steps:\n",
    "\n",
    "1. Weight initialization\n",
    "2. Forward Propagation\n",
    "3. Compute Loss\n",
    "4. Backpropagation\n",
    "5. Update Weights\n",
    "6. Repeat 2->6 until maximum epochs are reached\n",
    "\n",
    "When training a machine learning model, the training data is usually divided into batches (parts), and the model updates its weights after processing each batch. The batch size determines how many training examples are included in each batch. \n",
    "\n",
    "For example, we have 10,000 training examples and a batch size of 100. In this case, the training data would be divided into 100 batches of 100 examples each. During training, the model would process each batch, calculate the loss or error, and update its weights based on the average of the errors in that batch. In other words, if we batch equal to 1. we will update the weights 10 000 times. If we have batch size == 100, we will update the weights only 100 times "
   ]
  },
  {
   "cell_type": "markdown",
   "metadata": {
    "id": "Xhlzz2hr0n5Y"
   },
   "source": [
    "To train your model, run the following line of the code:"
   ]
  },
  {
   "cell_type": "code",
   "execution_count": 5,
   "metadata": {
    "id": "sE7eNdJi3gbX"
   },
   "outputs": [
    {
     "name": "stdout",
     "output_type": "stream",
     "text": [
      "Epoch 1/500\n",
      "4/4 [==============================] - 0s 3ms/step - loss: 0.8203 - accuracy: 0.2500\n",
      "Epoch 2/500\n",
      "4/4 [==============================] - 0s 2ms/step - loss: 0.7788 - accuracy: 0.5000\n",
      "Epoch 3/500\n",
      "4/4 [==============================] - 0s 2ms/step - loss: 0.8108 - accuracy: 0.2500\n",
      "Epoch 4/500\n",
      "4/4 [==============================] - 0s 2ms/step - loss: 0.8112 - accuracy: 0.0000e+00\n",
      "Epoch 5/500\n",
      "4/4 [==============================] - 0s 1ms/step - loss: 0.8119 - accuracy: 0.5000\n",
      "Epoch 6/500\n",
      "4/4 [==============================] - 0s 2ms/step - loss: 0.7813 - accuracy: 0.5000\n",
      "Epoch 7/500\n",
      "4/4 [==============================] - 0s 1ms/step - loss: 0.8090 - accuracy: 0.5000\n",
      "Epoch 8/500\n",
      "4/4 [==============================] - 0s 2ms/step - loss: 0.8068 - accuracy: 0.2500\n",
      "Epoch 9/500\n",
      "4/4 [==============================] - 0s 2ms/step - loss: 0.8098 - accuracy: 0.2500\n",
      "Epoch 10/500\n",
      "4/4 [==============================] - 0s 2ms/step - loss: 0.8066 - accuracy: 0.2500\n",
      "Epoch 11/500\n",
      "4/4 [==============================] - 0s 2ms/step - loss: 0.8103 - accuracy: 0.0000e+00\n",
      "Epoch 12/500\n",
      "4/4 [==============================] - 0s 2ms/step - loss: 0.8114 - accuracy: 0.2500\n",
      "Epoch 13/500\n",
      "4/4 [==============================] - 0s 2ms/step - loss: 0.8050 - accuracy: 0.2500\n",
      "Epoch 14/500\n",
      "4/4 [==============================] - 0s 2ms/step - loss: 0.8098 - accuracy: 0.2500\n",
      "Epoch 15/500\n",
      "4/4 [==============================] - 0s 2ms/step - loss: 0.8049 - accuracy: 0.0000e+00\n",
      "Epoch 16/500\n",
      "4/4 [==============================] - 0s 2ms/step - loss: 0.7798 - accuracy: 0.2500\n",
      "Epoch 17/500\n",
      "4/4 [==============================] - 0s 2ms/step - loss: 0.8111 - accuracy: 0.2500\n",
      "Epoch 18/500\n",
      "4/4 [==============================] - 0s 2ms/step - loss: 0.8030 - accuracy: 0.2500\n",
      "Epoch 19/500\n",
      "4/4 [==============================] - 0s 2ms/step - loss: 0.8025 - accuracy: 0.5000\n",
      "Epoch 20/500\n",
      "4/4 [==============================] - 0s 2ms/step - loss: 0.8060 - accuracy: 0.2500\n",
      "Epoch 21/500\n",
      "4/4 [==============================] - 0s 2ms/step - loss: 0.7782 - accuracy: 0.5000\n",
      "Epoch 22/500\n",
      "4/4 [==============================] - 0s 2ms/step - loss: 0.8069 - accuracy: 0.2500\n",
      "Epoch 23/500\n",
      "4/4 [==============================] - 0s 2ms/step - loss: 0.7765 - accuracy: 0.5000\n",
      "Epoch 24/500\n",
      "4/4 [==============================] - 0s 1ms/step - loss: 0.7877 - accuracy: 0.0000e+00\n",
      "Epoch 25/500\n",
      "4/4 [==============================] - 0s 3ms/step - loss: 0.7771 - accuracy: 0.5000\n",
      "Epoch 26/500\n",
      "4/4 [==============================] - 0s 7ms/step - loss: 0.8044 - accuracy: 0.2500\n",
      "Epoch 27/500\n",
      "4/4 [==============================] - 0s 2ms/step - loss: 0.7994 - accuracy: 0.2500\n",
      "Epoch 28/500\n",
      "4/4 [==============================] - 0s 2ms/step - loss: 0.7782 - accuracy: 0.7500\n",
      "Epoch 29/500\n",
      "4/4 [==============================] - 0s 2ms/step - loss: 0.7733 - accuracy: 0.5000\n",
      "Epoch 30/500\n",
      "4/4 [==============================] - 0s 2ms/step - loss: 0.7820 - accuracy: 0.2500\n",
      "Epoch 31/500\n",
      "4/4 [==============================] - 0s 2ms/step - loss: 0.8069 - accuracy: 0.5000\n",
      "Epoch 32/500\n",
      "4/4 [==============================] - 0s 2ms/step - loss: 0.7820 - accuracy: 0.2500\n",
      "Epoch 33/500\n",
      "4/4 [==============================] - 0s 2ms/step - loss: 0.8069 - accuracy: 0.5000\n",
      "Epoch 34/500\n",
      "4/4 [==============================] - 0s 2ms/step - loss: 0.7820 - accuracy: 0.2500\n",
      "Epoch 35/500\n",
      "4/4 [==============================] - 0s 2ms/step - loss: 0.8081 - accuracy: 0.2500\n",
      "Epoch 36/500\n",
      "4/4 [==============================] - 0s 2ms/step - loss: 0.8021 - accuracy: 0.2500\n",
      "Epoch 37/500\n",
      "4/4 [==============================] - 0s 2ms/step - loss: 0.7957 - accuracy: 0.2500\n",
      "Epoch 38/500\n",
      "4/4 [==============================] - 0s 2ms/step - loss: 0.7717 - accuracy: 0.5000\n",
      "Epoch 39/500\n",
      "4/4 [==============================] - 0s 2ms/step - loss: 0.7953 - accuracy: 0.5000\n",
      "Epoch 40/500\n",
      "4/4 [==============================] - 0s 2ms/step - loss: 0.7753 - accuracy: 0.7500\n",
      "Epoch 41/500\n",
      "4/4 [==============================] - 0s 2ms/step - loss: 0.7954 - accuracy: 0.5000\n",
      "Epoch 42/500\n",
      "4/4 [==============================] - 0s 2ms/step - loss: 0.7994 - accuracy: 0.5000\n",
      "Epoch 43/500\n",
      "4/4 [==============================] - 0s 2ms/step - loss: 0.8010 - accuracy: 0.2500\n",
      "Epoch 44/500\n",
      "4/4 [==============================] - 0s 2ms/step - loss: 0.7940 - accuracy: 0.2500\n",
      "Epoch 45/500\n",
      "4/4 [==============================] - 0s 2ms/step - loss: 0.7981 - accuracy: 0.2500\n",
      "Epoch 46/500\n",
      "4/4 [==============================] - 0s 1ms/step - loss: 0.7965 - accuracy: 0.2500\n",
      "Epoch 47/500\n",
      "4/4 [==============================] - 0s 2ms/step - loss: 0.7742 - accuracy: 0.7500\n",
      "Epoch 48/500\n",
      "4/4 [==============================] - 0s 2ms/step - loss: 0.7933 - accuracy: 0.5000\n",
      "Epoch 49/500\n",
      "4/4 [==============================] - 0s 2ms/step - loss: 0.7997 - accuracy: 0.2500\n",
      "Epoch 50/500\n",
      "4/4 [==============================] - 0s 1ms/step - loss: 0.7935 - accuracy: 0.0000e+00\n",
      "Epoch 51/500\n",
      "4/4 [==============================] - 0s 2ms/step - loss: 0.7708 - accuracy: 0.5000\n",
      "Epoch 52/500\n",
      "4/4 [==============================] - 0s 1ms/step - loss: 0.8035 - accuracy: 0.2500\n",
      "Epoch 53/500\n",
      "4/4 [==============================] - 0s 2ms/step - loss: 0.7927 - accuracy: 0.2500\n",
      "Epoch 54/500\n",
      "4/4 [==============================] - 0s 2ms/step - loss: 0.7698 - accuracy: 0.5000\n",
      "Epoch 55/500\n",
      "4/4 [==============================] - 0s 2ms/step - loss: 0.7839 - accuracy: 0.5000\n",
      "Epoch 56/500\n",
      "4/4 [==============================] - 0s 2ms/step - loss: 0.8071 - accuracy: 0.2500\n",
      "Epoch 57/500\n",
      "4/4 [==============================] - 0s 2ms/step - loss: 0.7724 - accuracy: 0.2500\n",
      "Epoch 58/500\n",
      "4/4 [==============================] - 0s 2ms/step - loss: 0.8032 - accuracy: 0.2500\n",
      "Epoch 59/500\n",
      "4/4 [==============================] - 0s 2ms/step - loss: 0.7927 - accuracy: 0.2500\n",
      "Epoch 60/500\n",
      "4/4 [==============================] - 0s 1ms/step - loss: 0.7696 - accuracy: 0.2500\n",
      "Epoch 61/500\n",
      "4/4 [==============================] - 0s 2ms/step - loss: 0.8000 - accuracy: 0.2500\n",
      "Epoch 62/500\n",
      "4/4 [==============================] - 0s 3ms/step - loss: 0.7728 - accuracy: 0.5000\n",
      "Epoch 63/500\n",
      "4/4 [==============================] - 0s 2ms/step - loss: 0.7820 - accuracy: 0.5000\n",
      "Epoch 64/500\n",
      "4/4 [==============================] - 0s 2ms/step - loss: 0.7899 - accuracy: 0.5000\n",
      "Epoch 65/500\n",
      "4/4 [==============================] - 0s 2ms/step - loss: 0.7663 - accuracy: 0.2500\n",
      "Epoch 66/500\n",
      "4/4 [==============================] - 0s 2ms/step - loss: 0.8002 - accuracy: 0.2500\n",
      "Epoch 67/500\n",
      "4/4 [==============================] - 0s 2ms/step - loss: 0.7858 - accuracy: 0.5000\n",
      "Epoch 68/500\n",
      "4/4 [==============================] - 0s 2ms/step - loss: 0.7886 - accuracy: 0.0000e+00\n",
      "Epoch 69/500\n",
      "4/4 [==============================] - 0s 1ms/step - loss: 0.7630 - accuracy: 0.2500\n",
      "Epoch 70/500\n",
      "4/4 [==============================] - 0s 2ms/step - loss: 0.7924 - accuracy: 0.2500\n",
      "Epoch 71/500\n",
      "4/4 [==============================] - 0s 1ms/step - loss: 0.7865 - accuracy: 0.2500\n",
      "Epoch 72/500\n",
      "4/4 [==============================] - 0s 2ms/step - loss: 0.7840 - accuracy: 0.2500\n",
      "Epoch 73/500\n",
      "4/4 [==============================] - 0s 2ms/step - loss: 0.7816 - accuracy: 0.2500\n",
      "Epoch 74/500\n",
      "4/4 [==============================] - 0s 2ms/step - loss: 0.7867 - accuracy: 0.7500\n",
      "Epoch 75/500\n",
      "4/4 [==============================] - 0s 2ms/step - loss: 0.7799 - accuracy: 0.5000\n",
      "Epoch 76/500\n",
      "4/4 [==============================] - 0s 2ms/step - loss: 0.7524 - accuracy: 0.5000\n",
      "Epoch 77/500\n",
      "4/4 [==============================] - 0s 2ms/step - loss: 0.7637 - accuracy: 0.5000\n",
      "Epoch 78/500\n",
      "4/4 [==============================] - 0s 2ms/step - loss: 0.7561 - accuracy: 0.7500\n",
      "Epoch 79/500\n",
      "4/4 [==============================] - 0s 2ms/step - loss: 0.7569 - accuracy: 0.7500\n",
      "Epoch 80/500\n",
      "4/4 [==============================] - 0s 2ms/step - loss: 0.7813 - accuracy: 0.5000\n",
      "Epoch 81/500\n",
      "4/4 [==============================] - 0s 2ms/step - loss: 0.7771 - accuracy: 0.5000\n",
      "Epoch 82/500\n",
      "4/4 [==============================] - 0s 2ms/step - loss: 0.7794 - accuracy: 0.2500\n",
      "Epoch 83/500\n",
      "4/4 [==============================] - 0s 2ms/step - loss: 0.7445 - accuracy: 0.5000\n",
      "Epoch 84/500\n",
      "4/4 [==============================] - 0s 2ms/step - loss: 0.7848 - accuracy: 0.2500\n",
      "Epoch 85/500\n",
      "4/4 [==============================] - 0s 2ms/step - loss: 0.7540 - accuracy: 0.5000\n",
      "Epoch 86/500\n",
      "4/4 [==============================] - 0s 2ms/step - loss: 0.7783 - accuracy: 0.2500\n",
      "Epoch 87/500\n",
      "4/4 [==============================] - 0s 2ms/step - loss: 0.7612 - accuracy: 0.2500\n",
      "Epoch 88/500\n",
      "4/4 [==============================] - 0s 2ms/step - loss: 0.7636 - accuracy: 0.7500\n",
      "Epoch 89/500\n",
      "4/4 [==============================] - 0s 2ms/step - loss: 0.7349 - accuracy: 0.5000\n",
      "Epoch 90/500\n",
      "4/4 [==============================] - 0s 2ms/step - loss: 0.7752 - accuracy: 0.2500\n",
      "Epoch 91/500\n",
      "4/4 [==============================] - 0s 2ms/step - loss: 0.7636 - accuracy: 0.2500\n",
      "Epoch 92/500\n",
      "4/4 [==============================] - 0s 2ms/step - loss: 0.7574 - accuracy: 0.5000\n",
      "Epoch 93/500\n",
      "4/4 [==============================] - 0s 2ms/step - loss: 0.7509 - accuracy: 0.5000\n",
      "Epoch 94/500\n",
      "4/4 [==============================] - 0s 2ms/step - loss: 0.7498 - accuracy: 0.5000\n",
      "Epoch 95/500\n",
      "4/4 [==============================] - 0s 2ms/step - loss: 0.7197 - accuracy: 0.5000\n",
      "Epoch 96/500\n",
      "4/4 [==============================] - 0s 2ms/step - loss: 0.7557 - accuracy: 0.2500\n",
      "Epoch 97/500\n",
      "4/4 [==============================] - 0s 2ms/step - loss: 0.7174 - accuracy: 0.7500\n",
      "Epoch 98/500\n",
      "4/4 [==============================] - 0s 2ms/step - loss: 0.7472 - accuracy: 0.5000\n",
      "Epoch 99/500\n",
      "4/4 [==============================] - 0s 2ms/step - loss: 0.7490 - accuracy: 0.2500\n",
      "Epoch 100/500\n",
      "4/4 [==============================] - 0s 2ms/step - loss: 0.7126 - accuracy: 0.7500\n",
      "Epoch 101/500\n",
      "4/4 [==============================] - 0s 2ms/step - loss: 0.7236 - accuracy: 0.5000\n",
      "Epoch 102/500\n",
      "4/4 [==============================] - 0s 2ms/step - loss: 0.7316 - accuracy: 0.2500\n",
      "Epoch 103/500\n",
      "4/4 [==============================] - 0s 2ms/step - loss: 0.7243 - accuracy: 0.7500\n",
      "Epoch 104/500\n",
      "4/4 [==============================] - 0s 2ms/step - loss: 0.7282 - accuracy: 0.7500\n",
      "Epoch 105/500\n",
      "4/4 [==============================] - 0s 1ms/step - loss: 0.7176 - accuracy: 0.5000\n",
      "Epoch 106/500\n",
      "4/4 [==============================] - 0s 2ms/step - loss: 0.7216 - accuracy: 0.5000\n",
      "Epoch 107/500\n",
      "4/4 [==============================] - 0s 2ms/step - loss: 0.7222 - accuracy: 0.2500\n",
      "Epoch 108/500\n",
      "4/4 [==============================] - 0s 2ms/step - loss: 0.7256 - accuracy: 0.5000\n",
      "Epoch 109/500\n",
      "4/4 [==============================] - 0s 2ms/step - loss: 0.7096 - accuracy: 0.7500\n",
      "Epoch 110/500\n",
      "4/4 [==============================] - 0s 2ms/step - loss: 0.7136 - accuracy: 0.7500\n",
      "Epoch 111/500\n",
      "4/4 [==============================] - 0s 2ms/step - loss: 0.7159 - accuracy: 0.5000\n",
      "Epoch 112/500\n",
      "4/4 [==============================] - 0s 2ms/step - loss: 0.7014 - accuracy: 0.7500\n",
      "Epoch 113/500\n",
      "4/4 [==============================] - 0s 2ms/step - loss: 0.6885 - accuracy: 0.5000\n",
      "Epoch 114/500\n",
      "4/4 [==============================] - 0s 2ms/step - loss: 0.7093 - accuracy: 0.5000\n",
      "Epoch 115/500\n",
      "4/4 [==============================] - 0s 2ms/step - loss: 0.6877 - accuracy: 0.5000\n",
      "Epoch 116/500\n",
      "4/4 [==============================] - 0s 2ms/step - loss: 0.6845 - accuracy: 0.7500\n",
      "Epoch 117/500\n",
      "4/4 [==============================] - 0s 2ms/step - loss: 0.7045 - accuracy: 0.5000\n",
      "Epoch 118/500\n",
      "4/4 [==============================] - 0s 1ms/step - loss: 0.7046 - accuracy: 0.5000\n",
      "Epoch 119/500\n",
      "4/4 [==============================] - 0s 2ms/step - loss: 0.6977 - accuracy: 0.5000\n",
      "Epoch 120/500\n",
      "4/4 [==============================] - 0s 1ms/step - loss: 0.6999 - accuracy: 0.5000\n",
      "Epoch 121/500\n",
      "4/4 [==============================] - 0s 2ms/step - loss: 0.6761 - accuracy: 0.5000\n",
      "Epoch 122/500\n",
      "4/4 [==============================] - 0s 2ms/step - loss: 0.6646 - accuracy: 0.7500\n",
      "Epoch 123/500\n",
      "4/4 [==============================] - 0s 2ms/step - loss: 0.6678 - accuracy: 0.5000\n",
      "Epoch 124/500\n",
      "4/4 [==============================] - 0s 2ms/step - loss: 0.6672 - accuracy: 0.7500\n",
      "Epoch 125/500\n",
      "4/4 [==============================] - 0s 2ms/step - loss: 0.6644 - accuracy: 0.5000\n",
      "Epoch 126/500\n",
      "4/4 [==============================] - 0s 2ms/step - loss: 0.6812 - accuracy: 0.5000\n",
      "Epoch 127/500\n",
      "4/4 [==============================] - 0s 1ms/step - loss: 0.6830 - accuracy: 0.5000\n",
      "Epoch 128/500\n",
      "4/4 [==============================] - 0s 1ms/step - loss: 0.6548 - accuracy: 0.7500\n",
      "Epoch 129/500\n",
      "4/4 [==============================] - 0s 2ms/step - loss: 0.6637 - accuracy: 0.7500\n",
      "Epoch 130/500\n",
      "4/4 [==============================] - 0s 2ms/step - loss: 0.6695 - accuracy: 0.5000\n",
      "Epoch 131/500\n",
      "4/4 [==============================] - 0s 2ms/step - loss: 0.6503 - accuracy: 0.7500\n",
      "Epoch 132/500\n",
      "4/4 [==============================] - 0s 2ms/step - loss: 0.6591 - accuracy: 0.7500\n",
      "Epoch 133/500\n",
      "4/4 [==============================] - 0s 2ms/step - loss: 0.6831 - accuracy: 0.5000\n",
      "Epoch 134/500\n",
      "4/4 [==============================] - 0s 1ms/step - loss: 0.6613 - accuracy: 0.7500\n",
      "Epoch 135/500\n",
      "4/4 [==============================] - 0s 2ms/step - loss: 0.6573 - accuracy: 0.5000\n",
      "Epoch 136/500\n",
      "4/4 [==============================] - 0s 2ms/step - loss: 0.6408 - accuracy: 0.7500\n",
      "Epoch 137/500\n",
      "4/4 [==============================] - 0s 2ms/step - loss: 0.6687 - accuracy: 0.5000\n",
      "Epoch 138/500\n",
      "4/4 [==============================] - 0s 1ms/step - loss: 0.6628 - accuracy: 0.5000\n",
      "Epoch 139/500\n",
      "4/4 [==============================] - 0s 2ms/step - loss: 0.6519 - accuracy: 0.5000\n",
      "Epoch 140/500\n",
      "4/4 [==============================] - 0s 1ms/step - loss: 0.6582 - accuracy: 0.7500\n",
      "Epoch 141/500\n",
      "4/4 [==============================] - 0s 2ms/step - loss: 0.6337 - accuracy: 0.7500\n",
      "Epoch 142/500\n",
      "4/4 [==============================] - 0s 2ms/step - loss: 0.6624 - accuracy: 0.5000\n",
      "Epoch 143/500\n",
      "4/4 [==============================] - 0s 2ms/step - loss: 0.6570 - accuracy: 0.7500\n",
      "Epoch 144/500\n",
      "4/4 [==============================] - 0s 2ms/step - loss: 0.6439 - accuracy: 0.7500\n",
      "Epoch 145/500\n",
      "4/4 [==============================] - 0s 2ms/step - loss: 0.6352 - accuracy: 0.7500\n",
      "Epoch 146/500\n",
      "4/4 [==============================] - 0s 1ms/step - loss: 0.6419 - accuracy: 0.5000\n",
      "Epoch 147/500\n",
      "4/4 [==============================] - 0s 1ms/step - loss: 0.6269 - accuracy: 0.7500\n",
      "Epoch 148/500\n",
      "4/4 [==============================] - 0s 1ms/step - loss: 0.6376 - accuracy: 0.5000\n",
      "Epoch 149/500\n",
      "4/4 [==============================] - 0s 1ms/step - loss: 0.6378 - accuracy: 0.5000\n",
      "Epoch 150/500\n",
      "4/4 [==============================] - 0s 1ms/step - loss: 0.6329 - accuracy: 0.5000\n",
      "Epoch 151/500\n",
      "4/4 [==============================] - 0s 2ms/step - loss: 0.6374 - accuracy: 0.7500\n",
      "Epoch 152/500\n",
      "4/4 [==============================] - 0s 1ms/step - loss: 0.6455 - accuracy: 0.7500\n",
      "Epoch 153/500\n",
      "4/4 [==============================] - 0s 2ms/step - loss: 0.6405 - accuracy: 0.7500\n",
      "Epoch 154/500\n",
      "4/4 [==============================] - 0s 2ms/step - loss: 0.6313 - accuracy: 0.5000\n",
      "Epoch 155/500\n",
      "4/4 [==============================] - 0s 1ms/step - loss: 0.6172 - accuracy: 0.7500\n",
      "Epoch 156/500\n",
      "4/4 [==============================] - 0s 2ms/step - loss: 0.6280 - accuracy: 0.7500\n",
      "Epoch 157/500\n",
      "4/4 [==============================] - 0s 2ms/step - loss: 0.6432 - accuracy: 0.5000\n",
      "Epoch 158/500\n",
      "4/4 [==============================] - 0s 2ms/step - loss: 0.6381 - accuracy: 0.7500\n",
      "Epoch 159/500\n",
      "4/4 [==============================] - 0s 2ms/step - loss: 0.6183 - accuracy: 0.5000\n",
      "Epoch 160/500\n",
      "4/4 [==============================] - 0s 2ms/step - loss: 0.6370 - accuracy: 0.7500\n",
      "Epoch 161/500\n",
      "4/4 [==============================] - 0s 1ms/step - loss: 0.6186 - accuracy: 0.7500\n",
      "Epoch 162/500\n",
      "4/4 [==============================] - 0s 2ms/step - loss: 0.6340 - accuracy: 0.7500\n",
      "Epoch 163/500\n",
      "4/4 [==============================] - 0s 2ms/step - loss: 0.6139 - accuracy: 0.5000\n",
      "Epoch 164/500\n",
      "4/4 [==============================] - 0s 2ms/step - loss: 0.6164 - accuracy: 0.7500\n",
      "Epoch 165/500\n",
      "4/4 [==============================] - 0s 2ms/step - loss: 0.6305 - accuracy: 0.7500\n",
      "Epoch 166/500\n",
      "4/4 [==============================] - 0s 2ms/step - loss: 0.6176 - accuracy: 0.5000\n",
      "Epoch 167/500\n",
      "4/4 [==============================] - 0s 2ms/step - loss: 0.6158 - accuracy: 0.7500\n",
      "Epoch 168/500\n",
      "4/4 [==============================] - 0s 2ms/step - loss: 0.6172 - accuracy: 0.7500\n",
      "Epoch 169/500\n",
      "4/4 [==============================] - 0s 1ms/step - loss: 0.6079 - accuracy: 0.5000\n",
      "Epoch 170/500\n",
      "4/4 [==============================] - 0s 2ms/step - loss: 0.6256 - accuracy: 0.7500\n",
      "Epoch 171/500\n",
      "4/4 [==============================] - 0s 1ms/step - loss: 0.6033 - accuracy: 0.7500\n",
      "Epoch 172/500\n",
      "4/4 [==============================] - 0s 1ms/step - loss: 0.6171 - accuracy: 0.7500\n",
      "Epoch 173/500\n",
      "4/4 [==============================] - 0s 2ms/step - loss: 0.6302 - accuracy: 0.7500\n",
      "Epoch 174/500\n",
      "4/4 [==============================] - 0s 2ms/step - loss: 0.6082 - accuracy: 0.7500\n",
      "Epoch 175/500\n",
      "4/4 [==============================] - 0s 2ms/step - loss: 0.6284 - accuracy: 0.7500\n",
      "Epoch 176/500\n",
      "4/4 [==============================] - 0s 2ms/step - loss: 0.6023 - accuracy: 0.5000\n",
      "Epoch 177/500\n",
      "4/4 [==============================] - 0s 2ms/step - loss: 0.6121 - accuracy: 0.7500\n",
      "Epoch 178/500\n",
      "4/4 [==============================] - 0s 2ms/step - loss: 0.6114 - accuracy: 0.7500\n",
      "Epoch 179/500\n",
      "4/4 [==============================] - 0s 2ms/step - loss: 0.6141 - accuracy: 0.7500\n",
      "Epoch 180/500\n",
      "4/4 [==============================] - 0s 1ms/step - loss: 0.6152 - accuracy: 0.7500\n",
      "Epoch 181/500\n",
      "4/4 [==============================] - 0s 2ms/step - loss: 0.6042 - accuracy: 0.7500\n",
      "Epoch 182/500\n",
      "4/4 [==============================] - 0s 1ms/step - loss: 0.6167 - accuracy: 0.7500\n",
      "Epoch 183/500\n",
      "4/4 [==============================] - 0s 2ms/step - loss: 0.6037 - accuracy: 0.7500\n",
      "Epoch 184/500\n",
      "4/4 [==============================] - 0s 1ms/step - loss: 0.6184 - accuracy: 0.7500\n",
      "Epoch 185/500\n",
      "4/4 [==============================] - 0s 1ms/step - loss: 0.6139 - accuracy: 0.7500\n",
      "Epoch 186/500\n",
      "4/4 [==============================] - 0s 2ms/step - loss: 0.6128 - accuracy: 0.7500\n",
      "Epoch 187/500\n",
      "4/4 [==============================] - 0s 1ms/step - loss: 0.5985 - accuracy: 0.7500\n",
      "Epoch 188/500\n",
      "4/4 [==============================] - 0s 2ms/step - loss: 0.5985 - accuracy: 0.5000\n",
      "Epoch 189/500\n",
      "4/4 [==============================] - 0s 1ms/step - loss: 0.5980 - accuracy: 0.5000\n",
      "Epoch 190/500\n",
      "4/4 [==============================] - 0s 2ms/step - loss: 0.6002 - accuracy: 0.7500\n",
      "Epoch 191/500\n",
      "4/4 [==============================] - 0s 2ms/step - loss: 0.5932 - accuracy: 0.5000\n",
      "Epoch 192/500\n",
      "4/4 [==============================] - 0s 2ms/step - loss: 0.6034 - accuracy: 0.7500\n",
      "Epoch 193/500\n",
      "4/4 [==============================] - 0s 2ms/step - loss: 0.6105 - accuracy: 0.7500\n",
      "Epoch 194/500\n",
      "4/4 [==============================] - 0s 2ms/step - loss: 0.5954 - accuracy: 0.7500\n",
      "Epoch 195/500\n",
      "4/4 [==============================] - 0s 1ms/step - loss: 0.5896 - accuracy: 0.5000\n",
      "Epoch 196/500\n",
      "4/4 [==============================] - 0s 2ms/step - loss: 0.5943 - accuracy: 0.7500\n",
      "Epoch 197/500\n",
      "4/4 [==============================] - 0s 2ms/step - loss: 0.5957 - accuracy: 0.7500\n",
      "Epoch 198/500\n",
      "4/4 [==============================] - 0s 2ms/step - loss: 0.5931 - accuracy: 0.7500\n",
      "Epoch 199/500\n",
      "4/4 [==============================] - 0s 2ms/step - loss: 0.5880 - accuracy: 0.5000\n",
      "Epoch 200/500\n",
      "4/4 [==============================] - 0s 2ms/step - loss: 0.5871 - accuracy: 0.7500\n",
      "Epoch 201/500\n",
      "4/4 [==============================] - 0s 2ms/step - loss: 0.5856 - accuracy: 0.5000\n",
      "Epoch 202/500\n",
      "4/4 [==============================] - 0s 2ms/step - loss: 0.5903 - accuracy: 0.5000\n",
      "Epoch 203/500\n",
      "4/4 [==============================] - 0s 2ms/step - loss: 0.6043 - accuracy: 0.7500\n",
      "Epoch 204/500\n",
      "4/4 [==============================] - 0s 2ms/step - loss: 0.5916 - accuracy: 0.7500\n",
      "Epoch 205/500\n",
      "4/4 [==============================] - 0s 2ms/step - loss: 0.6030 - accuracy: 0.7500\n",
      "Epoch 206/500\n",
      "4/4 [==============================] - 0s 2ms/step - loss: 0.5877 - accuracy: 0.7500\n",
      "Epoch 207/500\n",
      "4/4 [==============================] - 0s 2ms/step - loss: 0.5844 - accuracy: 0.7500\n",
      "Epoch 208/500\n",
      "4/4 [==============================] - 0s 2ms/step - loss: 0.5993 - accuracy: 0.7500\n",
      "Epoch 209/500\n",
      "4/4 [==============================] - 0s 2ms/step - loss: 0.5816 - accuracy: 0.5000\n",
      "Epoch 210/500\n",
      "4/4 [==============================] - 0s 1ms/step - loss: 0.5874 - accuracy: 0.7500\n",
      "Epoch 211/500\n",
      "4/4 [==============================] - 0s 1ms/step - loss: 0.5949 - accuracy: 0.7500\n",
      "Epoch 212/500\n",
      "4/4 [==============================] - 0s 1ms/step - loss: 0.5980 - accuracy: 0.7500\n",
      "Epoch 213/500\n",
      "4/4 [==============================] - 0s 2ms/step - loss: 0.5833 - accuracy: 0.7500\n",
      "Epoch 214/500\n",
      "4/4 [==============================] - 0s 1ms/step - loss: 0.5878 - accuracy: 0.7500\n",
      "Epoch 215/500\n",
      "4/4 [==============================] - 0s 1ms/step - loss: 0.5933 - accuracy: 0.7500\n",
      "Epoch 216/500\n",
      "4/4 [==============================] - 0s 2ms/step - loss: 0.5967 - accuracy: 0.7500\n",
      "Epoch 217/500\n",
      "4/4 [==============================] - 0s 1ms/step - loss: 0.5923 - accuracy: 0.7500\n",
      "Epoch 218/500\n",
      "4/4 [==============================] - 0s 2ms/step - loss: 0.5804 - accuracy: 0.7500\n",
      "Epoch 219/500\n",
      "4/4 [==============================] - 0s 2ms/step - loss: 0.5924 - accuracy: 0.7500\n",
      "Epoch 220/500\n",
      "4/4 [==============================] - 0s 1ms/step - loss: 0.5766 - accuracy: 0.7500\n",
      "Epoch 221/500\n",
      "4/4 [==============================] - 0s 2ms/step - loss: 0.5893 - accuracy: 0.7500\n",
      "Epoch 222/500\n",
      "4/4 [==============================] - 0s 1ms/step - loss: 0.5755 - accuracy: 0.7500\n",
      "Epoch 223/500\n",
      "4/4 [==============================] - 0s 2ms/step - loss: 0.5897 - accuracy: 0.7500\n",
      "Epoch 224/500\n",
      "4/4 [==============================] - 0s 1ms/step - loss: 0.5864 - accuracy: 0.7500\n",
      "Epoch 225/500\n",
      "4/4 [==============================] - 0s 2ms/step - loss: 0.5848 - accuracy: 0.7500\n",
      "Epoch 226/500\n",
      "4/4 [==============================] - 0s 2ms/step - loss: 0.5717 - accuracy: 0.7500\n",
      "Epoch 227/500\n",
      "4/4 [==============================] - 0s 2ms/step - loss: 0.5772 - accuracy: 0.7500\n",
      "Epoch 228/500\n",
      "4/4 [==============================] - 0s 2ms/step - loss: 0.5672 - accuracy: 0.7500\n",
      "Epoch 229/500\n",
      "4/4 [==============================] - 0s 2ms/step - loss: 0.5819 - accuracy: 0.7500\n",
      "Epoch 230/500\n",
      "4/4 [==============================] - 0s 2ms/step - loss: 0.5801 - accuracy: 0.7500\n",
      "Epoch 231/500\n",
      "4/4 [==============================] - 0s 1ms/step - loss: 0.5662 - accuracy: 0.7500\n",
      "Epoch 232/500\n",
      "4/4 [==============================] - 0s 1ms/step - loss: 0.5773 - accuracy: 0.7500\n",
      "Epoch 233/500\n",
      "4/4 [==============================] - 0s 2ms/step - loss: 0.5639 - accuracy: 0.7500\n",
      "Epoch 234/500\n",
      "4/4 [==============================] - 0s 2ms/step - loss: 0.5775 - accuracy: 0.7500\n",
      "Epoch 235/500\n",
      "4/4 [==============================] - 0s 2ms/step - loss: 0.5730 - accuracy: 0.7500\n",
      "Epoch 236/500\n",
      "4/4 [==============================] - 0s 2ms/step - loss: 0.5714 - accuracy: 0.7500\n",
      "Epoch 237/500\n",
      "4/4 [==============================] - 0s 2ms/step - loss: 0.5704 - accuracy: 0.7500\n",
      "Epoch 238/500\n",
      "4/4 [==============================] - 0s 2ms/step - loss: 0.5559 - accuracy: 0.5000\n",
      "Epoch 239/500\n",
      "4/4 [==============================] - 0s 2ms/step - loss: 0.5564 - accuracy: 0.7500\n",
      "Epoch 240/500\n",
      "4/4 [==============================] - 0s 2ms/step - loss: 0.5549 - accuracy: 0.7500\n",
      "Epoch 241/500\n",
      "4/4 [==============================] - 0s 1ms/step - loss: 0.5729 - accuracy: 0.7500\n",
      "Epoch 242/500\n",
      "4/4 [==============================] - 0s 2ms/step - loss: 0.5520 - accuracy: 0.7500\n",
      "Epoch 243/500\n",
      "4/4 [==============================] - 0s 2ms/step - loss: 0.5566 - accuracy: 0.7500\n",
      "Epoch 244/500\n",
      "4/4 [==============================] - 0s 2ms/step - loss: 0.5600 - accuracy: 0.7500\n",
      "Epoch 245/500\n",
      "4/4 [==============================] - 0s 2ms/step - loss: 0.5610 - accuracy: 0.7500\n",
      "Epoch 246/500\n",
      "4/4 [==============================] - 0s 1ms/step - loss: 0.5565 - accuracy: 0.7500\n",
      "Epoch 247/500\n",
      "4/4 [==============================] - 0s 2ms/step - loss: 0.5472 - accuracy: 0.5000\n",
      "Epoch 248/500\n",
      "4/4 [==============================] - 0s 2ms/step - loss: 0.5442 - accuracy: 0.7500\n",
      "Epoch 249/500\n",
      "4/4 [==============================] - 0s 2ms/step - loss: 0.5575 - accuracy: 0.7500\n",
      "Epoch 250/500\n",
      "4/4 [==============================] - 0s 2ms/step - loss: 0.5421 - accuracy: 0.7500\n",
      "Epoch 251/500\n",
      "4/4 [==============================] - 0s 2ms/step - loss: 0.5555 - accuracy: 0.7500\n",
      "Epoch 252/500\n",
      "4/4 [==============================] - 0s 2ms/step - loss: 0.5506 - accuracy: 0.7500\n",
      "Epoch 253/500\n",
      "4/4 [==============================] - 0s 2ms/step - loss: 0.5478 - accuracy: 0.7500\n",
      "Epoch 254/500\n",
      "4/4 [==============================] - 0s 2ms/step - loss: 0.5327 - accuracy: 0.7500\n",
      "Epoch 255/500\n",
      "4/4 [==============================] - 0s 4ms/step - loss: 0.5449 - accuracy: 0.7500\n",
      "Epoch 256/500\n",
      "4/4 [==============================] - 0s 2ms/step - loss: 0.5409 - accuracy: 0.7500\n",
      "Epoch 257/500\n",
      "4/4 [==============================] - 0s 2ms/step - loss: 0.5413 - accuracy: 0.7500\n",
      "Epoch 258/500\n",
      "4/4 [==============================] - 0s 2ms/step - loss: 0.5382 - accuracy: 0.7500\n",
      "Epoch 259/500\n",
      "4/4 [==============================] - 0s 2ms/step - loss: 0.5231 - accuracy: 0.7500\n",
      "Epoch 260/500\n",
      "4/4 [==============================] - 0s 2ms/step - loss: 0.5109 - accuracy: 0.7500\n",
      "Epoch 261/500\n",
      "4/4 [==============================] - 0s 2ms/step - loss: 0.5219 - accuracy: 0.5000\n",
      "Epoch 262/500\n",
      "4/4 [==============================] - 0s 2ms/step - loss: 0.5159 - accuracy: 0.7500\n",
      "Epoch 263/500\n",
      "4/4 [==============================] - 0s 2ms/step - loss: 0.5153 - accuracy: 0.7500\n",
      "Epoch 264/500\n",
      "4/4 [==============================] - 0s 2ms/step - loss: 0.5318 - accuracy: 0.5000\n",
      "Epoch 265/500\n",
      "4/4 [==============================] - 0s 1ms/step - loss: 0.5228 - accuracy: 0.7500\n",
      "Epoch 266/500\n",
      "4/4 [==============================] - 0s 2ms/step - loss: 0.5076 - accuracy: 0.5000\n",
      "Epoch 267/500\n",
      "4/4 [==============================] - 0s 1ms/step - loss: 0.5200 - accuracy: 0.7500\n",
      "Epoch 268/500\n",
      "4/4 [==============================] - 0s 2ms/step - loss: 0.4997 - accuracy: 0.5000\n",
      "Epoch 269/500\n",
      "4/4 [==============================] - 0s 2ms/step - loss: 0.5030 - accuracy: 0.7500\n",
      "Epoch 270/500\n",
      "4/4 [==============================] - 0s 2ms/step - loss: 0.4973 - accuracy: 0.7500\n",
      "Epoch 271/500\n",
      "4/4 [==============================] - 0s 2ms/step - loss: 0.4797 - accuracy: 0.7500\n",
      "Epoch 272/500\n",
      "4/4 [==============================] - 0s 1ms/step - loss: 0.4953 - accuracy: 0.7500\n",
      "Epoch 273/500\n",
      "4/4 [==============================] - 0s 2ms/step - loss: 0.4835 - accuracy: 0.7500\n",
      "Epoch 274/500\n",
      "4/4 [==============================] - 0s 2ms/step - loss: 0.4781 - accuracy: 0.5000\n",
      "Epoch 275/500\n",
      "4/4 [==============================] - 0s 2ms/step - loss: 0.4920 - accuracy: 0.7500\n",
      "Epoch 276/500\n",
      "4/4 [==============================] - 0s 2ms/step - loss: 0.4872 - accuracy: 0.7500\n",
      "Epoch 277/500\n",
      "4/4 [==============================] - 0s 2ms/step - loss: 0.4792 - accuracy: 0.7500\n",
      "Epoch 278/500\n",
      "4/4 [==============================] - 0s 2ms/step - loss: 0.4595 - accuracy: 0.7500\n",
      "Epoch 279/500\n",
      "4/4 [==============================] - 0s 2ms/step - loss: 0.4646 - accuracy: 0.7500\n",
      "Epoch 280/500\n",
      "4/4 [==============================] - 0s 2ms/step - loss: 0.4742 - accuracy: 0.7500\n",
      "Epoch 281/500\n",
      "4/4 [==============================] - 0s 2ms/step - loss: 0.4436 - accuracy: 0.7500\n",
      "Epoch 282/500\n",
      "4/4 [==============================] - 0s 1ms/step - loss: 0.4624 - accuracy: 0.7500\n",
      "Epoch 283/500\n",
      "4/4 [==============================] - 0s 2ms/step - loss: 0.4524 - accuracy: 0.7500\n",
      "Epoch 284/500\n",
      "4/4 [==============================] - 0s 2ms/step - loss: 0.4339 - accuracy: 0.7500\n",
      "Epoch 285/500\n",
      "4/4 [==============================] - 0s 1ms/step - loss: 0.4451 - accuracy: 0.7500\n",
      "Epoch 286/500\n",
      "4/4 [==============================] - 0s 2ms/step - loss: 0.4145 - accuracy: 1.0000\n",
      "Epoch 287/500\n",
      "4/4 [==============================] - 0s 2ms/step - loss: 0.4164 - accuracy: 0.7500\n",
      "Epoch 288/500\n",
      "4/4 [==============================] - 0s 2ms/step - loss: 0.4082 - accuracy: 0.7500\n",
      "Epoch 289/500\n",
      "4/4 [==============================] - 0s 2ms/step - loss: 0.4174 - accuracy: 0.7500\n",
      "Epoch 290/500\n",
      "4/4 [==============================] - 0s 2ms/step - loss: 0.4164 - accuracy: 1.0000\n",
      "Epoch 291/500\n",
      "4/4 [==============================] - 0s 1ms/step - loss: 0.3852 - accuracy: 1.0000\n",
      "Epoch 292/500\n",
      "4/4 [==============================] - 0s 2ms/step - loss: 0.3970 - accuracy: 0.7500\n",
      "Epoch 293/500\n",
      "4/4 [==============================] - 0s 1ms/step - loss: 0.3796 - accuracy: 0.7500\n",
      "Epoch 294/500\n",
      "4/4 [==============================] - 0s 2ms/step - loss: 0.3722 - accuracy: 0.7500\n",
      "Epoch 295/500\n",
      "4/4 [==============================] - 0s 2ms/step - loss: 0.3849 - accuracy: 1.0000\n",
      "Epoch 296/500\n",
      "4/4 [==============================] - 0s 2ms/step - loss: 0.3529 - accuracy: 1.0000\n",
      "Epoch 297/500\n",
      "4/4 [==============================] - 0s 2ms/step - loss: 0.3528 - accuracy: 1.0000\n",
      "Epoch 298/500\n",
      "4/4 [==============================] - 0s 2ms/step - loss: 0.3651 - accuracy: 0.7500\n",
      "Epoch 299/500\n",
      "4/4 [==============================] - 0s 1ms/step - loss: 0.3485 - accuracy: 1.0000\n",
      "Epoch 300/500\n",
      "4/4 [==============================] - 0s 1ms/step - loss: 0.3325 - accuracy: 0.7500\n",
      "Epoch 301/500\n",
      "4/4 [==============================] - 0s 2ms/step - loss: 0.3370 - accuracy: 1.0000\n",
      "Epoch 302/500\n",
      "4/4 [==============================] - 0s 2ms/step - loss: 0.3085 - accuracy: 1.0000\n",
      "Epoch 303/500\n",
      "4/4 [==============================] - 0s 2ms/step - loss: 0.3217 - accuracy: 1.0000\n",
      "Epoch 304/500\n",
      "4/4 [==============================] - 0s 2ms/step - loss: 0.3128 - accuracy: 1.0000\n",
      "Epoch 305/500\n",
      "4/4 [==============================] - 0s 2ms/step - loss: 0.3002 - accuracy: 1.0000\n",
      "Epoch 306/500\n",
      "4/4 [==============================] - 0s 2ms/step - loss: 0.2992 - accuracy: 0.7500\n",
      "Epoch 307/500\n",
      "4/4 [==============================] - 0s 2ms/step - loss: 0.2799 - accuracy: 1.0000\n",
      "Epoch 308/500\n",
      "4/4 [==============================] - 0s 2ms/step - loss: 0.2840 - accuracy: 1.0000\n",
      "Epoch 309/500\n",
      "4/4 [==============================] - 0s 2ms/step - loss: 0.2860 - accuracy: 1.0000\n",
      "Epoch 310/500\n",
      "4/4 [==============================] - 0s 2ms/step - loss: 0.2674 - accuracy: 1.0000\n",
      "Epoch 311/500\n",
      "4/4 [==============================] - 0s 1ms/step - loss: 0.2755 - accuracy: 1.0000\n",
      "Epoch 312/500\n",
      "4/4 [==============================] - 0s 2ms/step - loss: 0.2603 - accuracy: 1.0000\n",
      "Epoch 313/500\n",
      "4/4 [==============================] - 0s 1ms/step - loss: 0.2553 - accuracy: 1.0000\n",
      "Epoch 314/500\n",
      "4/4 [==============================] - 0s 2ms/step - loss: 0.2535 - accuracy: 1.0000\n",
      "Epoch 315/500\n",
      "4/4 [==============================] - 0s 1ms/step - loss: 0.2555 - accuracy: 1.0000\n",
      "Epoch 316/500\n",
      "4/4 [==============================] - 0s 2ms/step - loss: 0.2375 - accuracy: 1.0000\n",
      "Epoch 317/500\n",
      "4/4 [==============================] - 0s 2ms/step - loss: 0.2408 - accuracy: 1.0000\n",
      "Epoch 318/500\n",
      "4/4 [==============================] - 0s 1ms/step - loss: 0.2296 - accuracy: 1.0000\n",
      "Epoch 319/500\n",
      "4/4 [==============================] - 0s 2ms/step - loss: 0.2275 - accuracy: 1.0000\n",
      "Epoch 320/500\n",
      "4/4 [==============================] - 0s 2ms/step - loss: 0.2221 - accuracy: 1.0000\n",
      "Epoch 321/500\n",
      "4/4 [==============================] - 0s 2ms/step - loss: 0.2237 - accuracy: 1.0000\n",
      "Epoch 322/500\n",
      "4/4 [==============================] - 0s 2ms/step - loss: 0.2150 - accuracy: 1.0000\n",
      "Epoch 323/500\n",
      "4/4 [==============================] - 0s 2ms/step - loss: 0.2091 - accuracy: 1.0000\n",
      "Epoch 324/500\n",
      "4/4 [==============================] - 0s 2ms/step - loss: 0.2094 - accuracy: 1.0000\n",
      "Epoch 325/500\n",
      "4/4 [==============================] - 0s 2ms/step - loss: 0.2035 - accuracy: 1.0000\n",
      "Epoch 326/500\n",
      "4/4 [==============================] - 0s 2ms/step - loss: 0.1951 - accuracy: 1.0000\n",
      "Epoch 327/500\n",
      "4/4 [==============================] - 0s 2ms/step - loss: 0.2002 - accuracy: 1.0000\n",
      "Epoch 328/500\n",
      "4/4 [==============================] - 0s 1ms/step - loss: 0.1929 - accuracy: 1.0000\n",
      "Epoch 329/500\n",
      "4/4 [==============================] - 0s 2ms/step - loss: 0.1928 - accuracy: 1.0000\n",
      "Epoch 330/500\n",
      "4/4 [==============================] - 0s 2ms/step - loss: 0.1847 - accuracy: 1.0000\n",
      "Epoch 331/500\n",
      "4/4 [==============================] - 0s 2ms/step - loss: 0.1837 - accuracy: 1.0000\n",
      "Epoch 332/500\n",
      "4/4 [==============================] - 0s 2ms/step - loss: 0.1780 - accuracy: 1.0000\n",
      "Epoch 333/500\n",
      "4/4 [==============================] - 0s 2ms/step - loss: 0.1771 - accuracy: 1.0000\n",
      "Epoch 334/500\n",
      "4/4 [==============================] - 0s 2ms/step - loss: 0.1768 - accuracy: 1.0000\n",
      "Epoch 335/500\n",
      "4/4 [==============================] - 0s 1ms/step - loss: 0.1716 - accuracy: 1.0000\n",
      "Epoch 336/500\n",
      "4/4 [==============================] - 0s 2ms/step - loss: 0.1695 - accuracy: 1.0000\n",
      "Epoch 337/500\n",
      "4/4 [==============================] - 0s 2ms/step - loss: 0.1658 - accuracy: 1.0000\n",
      "Epoch 338/500\n",
      "4/4 [==============================] - 0s 2ms/step - loss: 0.1676 - accuracy: 1.0000\n",
      "Epoch 339/500\n",
      "4/4 [==============================] - 0s 2ms/step - loss: 0.1600 - accuracy: 1.0000\n",
      "Epoch 340/500\n",
      "4/4 [==============================] - 0s 2ms/step - loss: 0.1603 - accuracy: 1.0000\n",
      "Epoch 341/500\n",
      "4/4 [==============================] - 0s 2ms/step - loss: 0.1571 - accuracy: 1.0000\n",
      "Epoch 342/500\n",
      "4/4 [==============================] - 0s 2ms/step - loss: 0.1518 - accuracy: 1.0000\n",
      "Epoch 343/500\n",
      "4/4 [==============================] - 0s 2ms/step - loss: 0.1530 - accuracy: 1.0000\n",
      "Epoch 344/500\n",
      "4/4 [==============================] - 0s 2ms/step - loss: 0.1489 - accuracy: 1.0000\n",
      "Epoch 345/500\n",
      "4/4 [==============================] - 0s 2ms/step - loss: 0.1476 - accuracy: 1.0000\n",
      "Epoch 346/500\n",
      "4/4 [==============================] - 0s 2ms/step - loss: 0.1461 - accuracy: 1.0000\n",
      "Epoch 347/500\n",
      "4/4 [==============================] - 0s 2ms/step - loss: 0.1427 - accuracy: 1.0000\n",
      "Epoch 348/500\n",
      "4/4 [==============================] - 0s 2ms/step - loss: 0.1424 - accuracy: 1.0000\n",
      "Epoch 349/500\n",
      "4/4 [==============================] - 0s 2ms/step - loss: 0.1386 - accuracy: 1.0000\n",
      "Epoch 350/500\n",
      "4/4 [==============================] - 0s 2ms/step - loss: 0.1385 - accuracy: 1.0000\n",
      "Epoch 351/500\n",
      "4/4 [==============================] - 0s 2ms/step - loss: 0.1354 - accuracy: 1.0000\n",
      "Epoch 352/500\n",
      "4/4 [==============================] - 0s 3ms/step - loss: 0.1347 - accuracy: 1.0000\n",
      "Epoch 353/500\n",
      "4/4 [==============================] - 0s 2ms/step - loss: 0.1324 - accuracy: 1.0000\n",
      "Epoch 354/500\n",
      "4/4 [==============================] - 0s 2ms/step - loss: 0.1300 - accuracy: 1.0000\n",
      "Epoch 355/500\n",
      "4/4 [==============================] - 0s 2ms/step - loss: 0.1280 - accuracy: 1.0000\n",
      "Epoch 356/500\n",
      "4/4 [==============================] - 0s 2ms/step - loss: 0.1268 - accuracy: 1.0000\n",
      "Epoch 357/500\n",
      "4/4 [==============================] - 0s 2ms/step - loss: 0.1257 - accuracy: 1.0000\n",
      "Epoch 358/500\n",
      "4/4 [==============================] - 0s 2ms/step - loss: 0.1254 - accuracy: 1.0000\n",
      "Epoch 359/500\n",
      "4/4 [==============================] - 0s 2ms/step - loss: 0.1222 - accuracy: 1.0000\n",
      "Epoch 360/500\n",
      "4/4 [==============================] - 0s 2ms/step - loss: 0.1209 - accuracy: 1.0000\n",
      "Epoch 361/500\n",
      "4/4 [==============================] - 0s 2ms/step - loss: 0.1203 - accuracy: 1.0000\n",
      "Epoch 362/500\n",
      "4/4 [==============================] - 0s 2ms/step - loss: 0.1176 - accuracy: 1.0000\n",
      "Epoch 363/500\n",
      "4/4 [==============================] - 0s 2ms/step - loss: 0.1170 - accuracy: 1.0000\n",
      "Epoch 364/500\n",
      "4/4 [==============================] - 0s 2ms/step - loss: 0.1147 - accuracy: 1.0000\n",
      "Epoch 365/500\n",
      "4/4 [==============================] - 0s 2ms/step - loss: 0.1140 - accuracy: 1.0000\n",
      "Epoch 366/500\n",
      "4/4 [==============================] - 0s 2ms/step - loss: 0.1121 - accuracy: 1.0000\n",
      "Epoch 367/500\n",
      "4/4 [==============================] - 0s 2ms/step - loss: 0.1113 - accuracy: 1.0000\n",
      "Epoch 368/500\n",
      "4/4 [==============================] - 0s 2ms/step - loss: 0.1104 - accuracy: 1.0000\n",
      "Epoch 369/500\n",
      "4/4 [==============================] - 0s 2ms/step - loss: 0.1095 - accuracy: 1.0000\n",
      "Epoch 370/500\n",
      "4/4 [==============================] - 0s 2ms/step - loss: 0.1088 - accuracy: 1.0000\n",
      "Epoch 371/500\n",
      "4/4 [==============================] - 0s 2ms/step - loss: 0.1070 - accuracy: 1.0000\n",
      "Epoch 372/500\n",
      "4/4 [==============================] - 0s 2ms/step - loss: 0.1060 - accuracy: 1.0000\n",
      "Epoch 373/500\n",
      "4/4 [==============================] - 0s 2ms/step - loss: 0.1044 - accuracy: 1.0000\n",
      "Epoch 374/500\n",
      "4/4 [==============================] - 0s 2ms/step - loss: 0.1038 - accuracy: 1.0000\n",
      "Epoch 375/500\n",
      "4/4 [==============================] - 0s 2ms/step - loss: 0.1026 - accuracy: 1.0000\n",
      "Epoch 376/500\n",
      "4/4 [==============================] - 0s 2ms/step - loss: 0.1015 - accuracy: 1.0000\n",
      "Epoch 377/500\n",
      "4/4 [==============================] - 0s 2ms/step - loss: 0.1005 - accuracy: 1.0000\n",
      "Epoch 378/500\n",
      "4/4 [==============================] - 0s 2ms/step - loss: 0.0993 - accuracy: 1.0000\n",
      "Epoch 379/500\n",
      "4/4 [==============================] - 0s 2ms/step - loss: 0.0980 - accuracy: 1.0000\n",
      "Epoch 380/500\n",
      "4/4 [==============================] - 0s 2ms/step - loss: 0.0971 - accuracy: 1.0000\n",
      "Epoch 381/500\n",
      "4/4 [==============================] - 0s 1ms/step - loss: 0.0959 - accuracy: 1.0000\n",
      "Epoch 382/500\n",
      "4/4 [==============================] - 0s 1ms/step - loss: 0.0947 - accuracy: 1.0000\n",
      "Epoch 383/500\n",
      "4/4 [==============================] - 0s 2ms/step - loss: 0.0946 - accuracy: 1.0000\n",
      "Epoch 384/500\n",
      "4/4 [==============================] - 0s 1ms/step - loss: 0.0932 - accuracy: 1.0000\n",
      "Epoch 385/500\n",
      "4/4 [==============================] - 0s 2ms/step - loss: 0.0929 - accuracy: 1.0000\n",
      "Epoch 386/500\n",
      "4/4 [==============================] - 0s 2ms/step - loss: 0.0916 - accuracy: 1.0000\n",
      "Epoch 387/500\n",
      "4/4 [==============================] - 0s 2ms/step - loss: 0.0911 - accuracy: 1.0000\n",
      "Epoch 388/500\n",
      "4/4 [==============================] - 0s 2ms/step - loss: 0.0903 - accuracy: 1.0000\n",
      "Epoch 389/500\n",
      "4/4 [==============================] - 0s 2ms/step - loss: 0.0893 - accuracy: 1.0000\n",
      "Epoch 390/500\n",
      "4/4 [==============================] - 0s 1ms/step - loss: 0.0884 - accuracy: 1.0000\n",
      "Epoch 391/500\n",
      "4/4 [==============================] - 0s 2ms/step - loss: 0.0878 - accuracy: 1.0000\n",
      "Epoch 392/500\n",
      "4/4 [==============================] - 0s 2ms/step - loss: 0.0864 - accuracy: 1.0000\n",
      "Epoch 393/500\n",
      "4/4 [==============================] - 0s 1ms/step - loss: 0.0862 - accuracy: 1.0000\n",
      "Epoch 394/500\n",
      "4/4 [==============================] - 0s 2ms/step - loss: 0.0855 - accuracy: 1.0000\n",
      "Epoch 395/500\n",
      "4/4 [==============================] - 0s 2ms/step - loss: 0.0843 - accuracy: 1.0000\n",
      "Epoch 396/500\n",
      "4/4 [==============================] - 0s 2ms/step - loss: 0.0834 - accuracy: 1.0000\n",
      "Epoch 397/500\n",
      "4/4 [==============================] - 0s 1ms/step - loss: 0.0830 - accuracy: 1.0000\n",
      "Epoch 398/500\n",
      "4/4 [==============================] - 0s 1ms/step - loss: 0.0822 - accuracy: 1.0000\n",
      "Epoch 399/500\n",
      "4/4 [==============================] - 0s 1ms/step - loss: 0.0818 - accuracy: 1.0000\n",
      "Epoch 400/500\n",
      "4/4 [==============================] - 0s 2ms/step - loss: 0.0811 - accuracy: 1.0000\n",
      "Epoch 401/500\n",
      "4/4 [==============================] - 0s 1ms/step - loss: 0.0802 - accuracy: 1.0000\n",
      "Epoch 402/500\n",
      "4/4 [==============================] - 0s 2ms/step - loss: 0.0798 - accuracy: 1.0000\n",
      "Epoch 403/500\n",
      "4/4 [==============================] - 0s 2ms/step - loss: 0.0788 - accuracy: 1.0000\n",
      "Epoch 404/500\n",
      "4/4 [==============================] - 0s 2ms/step - loss: 0.0782 - accuracy: 1.0000\n",
      "Epoch 405/500\n",
      "4/4 [==============================] - 0s 2ms/step - loss: 0.0778 - accuracy: 1.0000\n",
      "Epoch 406/500\n",
      "4/4 [==============================] - 0s 2ms/step - loss: 0.0768 - accuracy: 1.0000\n",
      "Epoch 407/500\n",
      "4/4 [==============================] - 0s 2ms/step - loss: 0.0766 - accuracy: 1.0000\n",
      "Epoch 408/500\n",
      "4/4 [==============================] - 0s 2ms/step - loss: 0.0759 - accuracy: 1.0000\n",
      "Epoch 409/500\n",
      "4/4 [==============================] - 0s 1ms/step - loss: 0.0751 - accuracy: 1.0000\n",
      "Epoch 410/500\n",
      "4/4 [==============================] - 0s 2ms/step - loss: 0.0748 - accuracy: 1.0000\n",
      "Epoch 411/500\n",
      "4/4 [==============================] - 0s 2ms/step - loss: 0.0742 - accuracy: 1.0000\n",
      "Epoch 412/500\n",
      "4/4 [==============================] - 0s 2ms/step - loss: 0.0734 - accuracy: 1.0000\n",
      "Epoch 413/500\n",
      "4/4 [==============================] - 0s 1ms/step - loss: 0.0731 - accuracy: 1.0000\n",
      "Epoch 414/500\n",
      "4/4 [==============================] - 0s 2ms/step - loss: 0.0724 - accuracy: 1.0000\n",
      "Epoch 415/500\n",
      "4/4 [==============================] - 0s 1ms/step - loss: 0.0719 - accuracy: 1.0000\n",
      "Epoch 416/500\n",
      "4/4 [==============================] - 0s 1ms/step - loss: 0.0714 - accuracy: 1.0000\n",
      "Epoch 417/500\n",
      "4/4 [==============================] - 0s 1ms/step - loss: 0.0707 - accuracy: 1.0000\n",
      "Epoch 418/500\n",
      "4/4 [==============================] - 0s 2ms/step - loss: 0.0702 - accuracy: 1.0000\n",
      "Epoch 419/500\n",
      "4/4 [==============================] - 0s 1ms/step - loss: 0.0697 - accuracy: 1.0000\n",
      "Epoch 420/500\n",
      "4/4 [==============================] - 0s 2ms/step - loss: 0.0693 - accuracy: 1.0000\n",
      "Epoch 421/500\n",
      "4/4 [==============================] - 0s 2ms/step - loss: 0.0686 - accuracy: 1.0000\n",
      "Epoch 422/500\n",
      "4/4 [==============================] - 0s 2ms/step - loss: 0.0683 - accuracy: 1.0000\n",
      "Epoch 423/500\n",
      "4/4 [==============================] - 0s 2ms/step - loss: 0.0677 - accuracy: 1.0000\n",
      "Epoch 424/500\n",
      "4/4 [==============================] - 0s 1ms/step - loss: 0.0672 - accuracy: 1.0000\n",
      "Epoch 425/500\n",
      "4/4 [==============================] - 0s 2ms/step - loss: 0.0667 - accuracy: 1.0000\n",
      "Epoch 426/500\n",
      "4/4 [==============================] - 0s 2ms/step - loss: 0.0665 - accuracy: 1.0000\n",
      "Epoch 427/500\n",
      "4/4 [==============================] - 0s 2ms/step - loss: 0.0657 - accuracy: 1.0000\n",
      "Epoch 428/500\n",
      "4/4 [==============================] - 0s 2ms/step - loss: 0.0656 - accuracy: 1.0000\n",
      "Epoch 429/500\n",
      "4/4 [==============================] - 0s 2ms/step - loss: 0.0649 - accuracy: 1.0000\n",
      "Epoch 430/500\n",
      "4/4 [==============================] - 0s 2ms/step - loss: 0.0646 - accuracy: 1.0000\n",
      "Epoch 431/500\n",
      "4/4 [==============================] - 0s 2ms/step - loss: 0.0640 - accuracy: 1.0000\n",
      "Epoch 432/500\n",
      "4/4 [==============================] - 0s 1ms/step - loss: 0.0635 - accuracy: 1.0000\n",
      "Epoch 433/500\n",
      "4/4 [==============================] - 0s 2ms/step - loss: 0.0631 - accuracy: 1.0000\n",
      "Epoch 434/500\n",
      "4/4 [==============================] - 0s 2ms/step - loss: 0.0628 - accuracy: 1.0000\n",
      "Epoch 435/500\n",
      "4/4 [==============================] - 0s 2ms/step - loss: 0.0623 - accuracy: 1.0000\n",
      "Epoch 436/500\n",
      "4/4 [==============================] - 0s 2ms/step - loss: 0.0620 - accuracy: 1.0000\n",
      "Epoch 437/500\n",
      "4/4 [==============================] - 0s 1ms/step - loss: 0.0617 - accuracy: 1.0000\n",
      "Epoch 438/500\n",
      "4/4 [==============================] - 0s 2ms/step - loss: 0.0612 - accuracy: 1.0000\n",
      "Epoch 439/500\n",
      "4/4 [==============================] - 0s 2ms/step - loss: 0.0608 - accuracy: 1.0000\n",
      "Epoch 440/500\n",
      "4/4 [==============================] - 0s 2ms/step - loss: 0.0604 - accuracy: 1.0000\n",
      "Epoch 441/500\n",
      "4/4 [==============================] - 0s 1ms/step - loss: 0.0599 - accuracy: 1.0000\n",
      "Epoch 442/500\n",
      "4/4 [==============================] - 0s 1ms/step - loss: 0.0597 - accuracy: 1.0000\n",
      "Epoch 443/500\n",
      "4/4 [==============================] - 0s 2ms/step - loss: 0.0593 - accuracy: 1.0000\n",
      "Epoch 444/500\n",
      "4/4 [==============================] - 0s 2ms/step - loss: 0.0589 - accuracy: 1.0000\n",
      "Epoch 445/500\n",
      "4/4 [==============================] - 0s 2ms/step - loss: 0.0585 - accuracy: 1.0000\n",
      "Epoch 446/500\n",
      "4/4 [==============================] - 0s 2ms/step - loss: 0.0581 - accuracy: 1.0000\n",
      "Epoch 447/500\n",
      "4/4 [==============================] - 0s 2ms/step - loss: 0.0578 - accuracy: 1.0000\n",
      "Epoch 448/500\n",
      "4/4 [==============================] - 0s 2ms/step - loss: 0.0573 - accuracy: 1.0000\n",
      "Epoch 449/500\n",
      "4/4 [==============================] - 0s 2ms/step - loss: 0.0570 - accuracy: 1.0000\n",
      "Epoch 450/500\n",
      "4/4 [==============================] - 0s 2ms/step - loss: 0.0567 - accuracy: 1.0000\n",
      "Epoch 451/500\n",
      "4/4 [==============================] - 0s 1ms/step - loss: 0.0563 - accuracy: 1.0000\n",
      "Epoch 452/500\n",
      "4/4 [==============================] - 0s 2ms/step - loss: 0.0561 - accuracy: 1.0000\n",
      "Epoch 453/500\n",
      "4/4 [==============================] - 0s 2ms/step - loss: 0.0557 - accuracy: 1.0000\n",
      "Epoch 454/500\n",
      "4/4 [==============================] - 0s 2ms/step - loss: 0.0554 - accuracy: 1.0000\n",
      "Epoch 455/500\n",
      "4/4 [==============================] - 0s 2ms/step - loss: 0.0550 - accuracy: 1.0000\n",
      "Epoch 456/500\n",
      "4/4 [==============================] - 0s 2ms/step - loss: 0.0548 - accuracy: 1.0000\n",
      "Epoch 457/500\n",
      "4/4 [==============================] - 0s 1ms/step - loss: 0.0545 - accuracy: 1.0000\n",
      "Epoch 458/500\n",
      "4/4 [==============================] - 0s 2ms/step - loss: 0.0540 - accuracy: 1.0000\n",
      "Epoch 459/500\n",
      "4/4 [==============================] - 0s 2ms/step - loss: 0.0538 - accuracy: 1.0000\n",
      "Epoch 460/500\n",
      "4/4 [==============================] - 0s 2ms/step - loss: 0.0535 - accuracy: 1.0000\n",
      "Epoch 461/500\n",
      "4/4 [==============================] - 0s 2ms/step - loss: 0.0532 - accuracy: 1.0000\n",
      "Epoch 462/500\n",
      "4/4 [==============================] - 0s 2ms/step - loss: 0.0529 - accuracy: 1.0000\n",
      "Epoch 463/500\n",
      "4/4 [==============================] - 0s 2ms/step - loss: 0.0526 - accuracy: 1.0000\n",
      "Epoch 464/500\n",
      "4/4 [==============================] - 0s 2ms/step - loss: 0.0523 - accuracy: 1.0000\n",
      "Epoch 465/500\n",
      "4/4 [==============================] - 0s 2ms/step - loss: 0.0519 - accuracy: 1.0000\n",
      "Epoch 466/500\n",
      "4/4 [==============================] - 0s 2ms/step - loss: 0.0517 - accuracy: 1.0000\n",
      "Epoch 467/500\n",
      "4/4 [==============================] - 0s 2ms/step - loss: 0.0514 - accuracy: 1.0000\n",
      "Epoch 468/500\n",
      "4/4 [==============================] - 0s 1ms/step - loss: 0.0511 - accuracy: 1.0000\n",
      "Epoch 469/500\n",
      "4/4 [==============================] - 0s 1ms/step - loss: 0.0509 - accuracy: 1.0000\n",
      "Epoch 470/500\n",
      "4/4 [==============================] - 0s 2ms/step - loss: 0.0505 - accuracy: 1.0000\n",
      "Epoch 471/500\n",
      "4/4 [==============================] - 0s 1ms/step - loss: 0.0503 - accuracy: 1.0000\n",
      "Epoch 472/500\n",
      "4/4 [==============================] - 0s 1ms/step - loss: 0.0501 - accuracy: 1.0000\n",
      "Epoch 473/500\n",
      "4/4 [==============================] - 0s 1ms/step - loss: 0.0498 - accuracy: 1.0000\n",
      "Epoch 474/500\n",
      "4/4 [==============================] - 0s 1ms/step - loss: 0.0496 - accuracy: 1.0000\n",
      "Epoch 475/500\n",
      "4/4 [==============================] - 0s 1ms/step - loss: 0.0492 - accuracy: 1.0000\n",
      "Epoch 476/500\n",
      "4/4 [==============================] - 0s 2ms/step - loss: 0.0489 - accuracy: 1.0000\n",
      "Epoch 477/500\n",
      "4/4 [==============================] - 0s 1ms/step - loss: 0.0487 - accuracy: 1.0000\n",
      "Epoch 478/500\n",
      "4/4 [==============================] - 0s 2ms/step - loss: 0.0485 - accuracy: 1.0000\n",
      "Epoch 479/500\n",
      "4/4 [==============================] - 0s 1ms/step - loss: 0.0482 - accuracy: 1.0000\n",
      "Epoch 480/500\n",
      "4/4 [==============================] - 0s 1ms/step - loss: 0.0479 - accuracy: 1.0000\n",
      "Epoch 481/500\n",
      "4/4 [==============================] - 0s 1ms/step - loss: 0.0477 - accuracy: 1.0000\n",
      "Epoch 482/500\n",
      "4/4 [==============================] - 0s 2ms/step - loss: 0.0475 - accuracy: 1.0000\n",
      "Epoch 483/500\n",
      "4/4 [==============================] - 0s 1ms/step - loss: 0.0472 - accuracy: 1.0000\n",
      "Epoch 484/500\n",
      "4/4 [==============================] - 0s 1ms/step - loss: 0.0470 - accuracy: 1.0000\n",
      "Epoch 485/500\n",
      "4/4 [==============================] - 0s 2ms/step - loss: 0.0468 - accuracy: 1.0000\n",
      "Epoch 486/500\n",
      "4/4 [==============================] - 0s 2ms/step - loss: 0.0465 - accuracy: 1.0000\n",
      "Epoch 487/500\n",
      "4/4 [==============================] - 0s 2ms/step - loss: 0.0462 - accuracy: 1.0000\n",
      "Epoch 488/500\n",
      "4/4 [==============================] - 0s 2ms/step - loss: 0.0461 - accuracy: 1.0000\n",
      "Epoch 489/500\n",
      "4/4 [==============================] - 0s 2ms/step - loss: 0.0458 - accuracy: 1.0000\n",
      "Epoch 490/500\n",
      "4/4 [==============================] - 0s 1ms/step - loss: 0.0456 - accuracy: 1.0000\n",
      "Epoch 491/500\n",
      "4/4 [==============================] - 0s 2ms/step - loss: 0.0454 - accuracy: 1.0000\n",
      "Epoch 492/500\n",
      "4/4 [==============================] - 0s 1ms/step - loss: 0.0451 - accuracy: 1.0000\n",
      "Epoch 493/500\n",
      "4/4 [==============================] - 0s 2ms/step - loss: 0.0450 - accuracy: 1.0000\n",
      "Epoch 494/500\n",
      "4/4 [==============================] - 0s 1ms/step - loss: 0.0447 - accuracy: 1.0000\n",
      "Epoch 495/500\n",
      "4/4 [==============================] - 0s 2ms/step - loss: 0.0445 - accuracy: 1.0000\n",
      "Epoch 496/500\n",
      "4/4 [==============================] - 0s 1ms/step - loss: 0.0443 - accuracy: 1.0000\n",
      "Epoch 497/500\n",
      "4/4 [==============================] - 0s 2ms/step - loss: 0.0440 - accuracy: 1.0000\n",
      "Epoch 498/500\n",
      "4/4 [==============================] - 0s 2ms/step - loss: 0.0438 - accuracy: 1.0000\n",
      "Epoch 499/500\n",
      "4/4 [==============================] - 0s 2ms/step - loss: 0.0437 - accuracy: 1.0000\n",
      "Epoch 500/500\n",
      "4/4 [==============================] - 0s 2ms/step - loss: 0.0435 - accuracy: 1.0000\n"
     ]
    }
   ],
   "source": [
    "history = model.fit(X, y, epochs=500, batch_size=1)"
   ]
  },
  {
   "cell_type": "markdown",
   "metadata": {
    "id": "TJNcrzuu02Kn"
   },
   "source": [
    "the method **.fit()**, is used to train the model. We can see that it takes several input parameters:\n",
    " - *X* - input data\n",
    " - *y* - label for the input data\n",
    " - *epochs* number of training epochs (iterations)\n",
    " - *batch_size* - number of samples in each batch\n",
    " - *verbose* - set verbose parameter to see the progress of loss and metrics during the training epochs\n",
    "\n",
    "These are not the only parameters the .fit() method can take. Check official documentation: https://keras.io/api/models/model_training_apis/\n",
    "\n",
    "We will set the output of our .fit() function to variable *history*, where the loss and other metrics defined above in the .compile() function during the training are saved."
   ]
  },
  {
   "cell_type": "markdown",
   "metadata": {
    "id": "M1M4VvU83jXY"
   },
   "source": [
    "### 5. Model evaluation"
   ]
  },
  {
   "cell_type": "markdown",
   "metadata": {
    "id": "kdJl6X-61gL4"
   },
   "source": [
    "Out training process is finished. To evaluate the performance of our model on test data, tun the following cell of the code:"
   ]
  },
  {
   "cell_type": "code",
   "execution_count": 6,
   "metadata": {
    "colab": {
     "base_uri": "https://localhost:8080/"
    },
    "executionInfo": {
     "elapsed": 425,
     "status": "ok",
     "timestamp": 1677925245105,
     "user": {
      "displayName": "Jan Bolcek",
      "userId": "11245949610672084450"
     },
     "user_tz": -60
    },
    "id": "EbM0bLm83iiQ",
    "outputId": "98f88b29-de75-415b-c2ba-d6bf58355669"
   },
   "outputs": [
    {
     "name": "stdout",
     "output_type": "stream",
     "text": [
      "Accuracy: 100.00\n"
     ]
    }
   ],
   "source": [
    "loss, accuracy = model.evaluate(X, y, verbose=0)\n",
    "print('Accuracy: {:.2f}'.format(accuracy*100))"
   ]
  },
  {
   "cell_type": "markdown",
   "metadata": {
    "id": "TYloVKFcUcYP"
   },
   "source": [
    "### 6. Model predictions"
   ]
  },
  {
   "cell_type": "code",
   "execution_count": 7,
   "metadata": {
    "colab": {
     "base_uri": "https://localhost:8080/"
    },
    "executionInfo": {
     "elapsed": 751,
     "status": "ok",
     "timestamp": 1677925248016,
     "user": {
      "displayName": "Jan Bolcek",
      "userId": "11245949610672084450"
     },
     "user_tz": -60
    },
    "id": "gEO2iQHnUjDo",
    "outputId": "7906e215-7b11-4b99-a69b-4bbe833cf280"
   },
   "outputs": [
    {
     "name": "stdout",
     "output_type": "stream",
     "text": [
      "1/1 [==============================] - 0s 76ms/step\n",
      "Data sample is [0, 0], prediction from model [[0.04367959]], ground_truth 0\n",
      "1/1 [==============================] - 0s 41ms/step\n",
      "Data sample is [0, 1], prediction from model [[0.9652869]], ground_truth 1\n",
      "1/1 [==============================] - 0s 33ms/step\n",
      "Data sample is [1, 0], prediction from model [[0.9650112]], ground_truth 1\n",
      "1/1 [==============================] - 0s 35ms/step\n",
      "Data sample is [1, 1], prediction from model [[0.0510703]], ground_truth 0\n"
     ]
    }
   ],
   "source": [
    "for id_x, data_sample in enumerate(X):\n",
    "  prediction = model.predict([data_sample])\n",
    "  print(f\"Data sample is {data_sample}, prediction from model {prediction}, ground_truth {y[id_x]}\")"
   ]
  },
  {
   "cell_type": "markdown",
   "metadata": {
    "id": "znRHpDEbABvg"
   },
   "source": [
    "### 7. Display loss function during the training process and acuracy"
   ]
  },
  {
   "cell_type": "code",
   "execution_count": 8,
   "metadata": {
    "colab": {
     "base_uri": "https://localhost:8080/",
     "height": 296
    },
    "executionInfo": {
     "elapsed": 423,
     "status": "ok",
     "timestamp": 1677925252473,
     "user": {
      "displayName": "Jan Bolcek",
      "userId": "11245949610672084450"
     },
     "user_tz": -60
    },
    "id": "zmFOaJHA41Tb",
    "outputId": "c6f7ebe5-7a00-485f-ae5c-2a356b102af1"
   },
   "outputs": [
    {
     "data": {
      "text/plain": "Text(0, 0.5, 'loss')"
     },
     "execution_count": 8,
     "metadata": {},
     "output_type": "execute_result"
    },
    {
     "data": {
      "text/plain": "<Figure size 640x480 with 1 Axes>",
      "image/png": "[encoded data removed]"
     },
     "metadata": {},
     "output_type": "display_data"
    }
   ],
   "source": [
    "plt.figure()\n",
    "plt.plot(history.history['loss'])\n",
    "plt.xlabel('n epochs')\n",
    "plt.ylabel('loss')"
   ]
  },
  {
   "cell_type": "markdown",
   "metadata": {
    "id": "YK40q-xmHvIr"
   },
   "source": [
    "### TASK:\n",
    "\n",
    "In this part of the exercise, the task would be to play around with the code above to see the influence of hyperparameters.\n",
    "\n",
    "As we know from the lecture, neural networks contain two types of parameters:\n",
    "  1. **Learnable parameters** - *weights* and *biases*. these parameters are adjusted in the training process.  \n",
    "  2. **Non-learnable parameters (hyperparameters)** - learning_rate, number_of_neurons, number_of_layers, number_of_epochs, type of activation functions in the neurons.., basically any user-defined setting is considered to be hyperparameter\n",
    "\n",
    "\n",
    "Change the following parameters: \n",
    "- number of epochs\n",
    "- learning_rate\n",
    "- activation functions in layers, \n",
    "- batch_size,\n",
    "- verbose,\n",
    "- number of neurons in the hidden layer\n",
    "\n",
    "Moreover, see the influence on the training process and results.\n",
    "\n",
    "**Note: Every time we change some hyper-parameters, do not forget to compile the model, to initialize the learnable parameters again**"
   ]
  },
  {
   "cell_type": "markdown",
   "metadata": {
    "id": "qbMYYFtl8lhd"
   },
   "source": [
    "## Exercise 2 - Congressional Voting Data\n",
    "\n",
    "In the attached dataset, results from congressional voting can be found. Your task is to train a model that can recognize that the politician is *republican* or *democrat* based on voting results. We would follow the general machine learning steps that were described in the lecture."
   ]
  },
  {
   "cell_type": "code",
   "execution_count": 9,
   "metadata": {
    "id": "VCvGPSYX8pbf"
   },
   "outputs": [],
   "source": [
    "import pandas as pd\n",
    "import numpy as np\n",
    "from tensorflow.keras.models import Sequential\n",
    "from tensorflow.keras.layers import Dense\n",
    "import tensorflow as tf\n",
    "import matplotlib.pyplot as plt"
   ]
  },
  {
   "cell_type": "markdown",
   "metadata": {
    "id": "vSoCAe_gAAP5"
   },
   "source": [
    "### 1. Loading dataset"
   ]
  },
  {
   "cell_type": "markdown",
   "metadata": {
    "id": "hm8Kj3sJiLAx"
   },
   "source": [
    "**First mount your google drive to google colab file.**"
   ]
  },
  {
   "cell_type": "code",
   "execution_count": 10,
   "metadata": {
    "id": "AqSVkJc8_f4R"
   },
   "outputs": [],
   "source": [
    "path_to_dataset = 'voting_complete.csv' # change the PATH\n",
    "pd_dataset = pd.read_csv(path_to_dataset)"
   ]
  },
  {
   "cell_type": "code",
   "execution_count": 11,
   "metadata": {
    "colab": {
     "base_uri": "https://localhost:8080/",
     "height": 540
    },
    "executionInfo": {
     "elapsed": 4,
     "status": "ok",
     "timestamp": 1677926458264,
     "user": {
      "displayName": "Jan Bolcek",
      "userId": "11245949610672084450"
     },
     "user_tz": -60
    },
    "id": "ZHxyq2C5_vJh",
    "outputId": "6a4147b1-2d04-46c9-dc23-08f09f1dccd1"
   },
   "outputs": [
    {
     "name": "stdout",
     "output_type": "stream",
     "text": [
      "     Unnamed: 0  Class Name handicapped-infants water-project-cost-sharing  \\\n",
      "0             0  republican                   n                          y   \n",
      "1             1  republican                   n                          y   \n",
      "2             2    democrat                   ?                          y   \n",
      "3             3    democrat                   n                          y   \n",
      "4             4    democrat                   y                          y   \n",
      "..          ...         ...                 ...                        ...   \n",
      "430         430  republican                   n                          n   \n",
      "431         431    democrat                   n                          n   \n",
      "432         432  republican                   n                          ?   \n",
      "433         433  republican                   n                          n   \n",
      "434         434  republican                   n                          y   \n",
      "\n",
      "    adoption-of-the-budget-resolution physician-fee-freeze el-salvador-aid  \\\n",
      "0                                   n                    y               y   \n",
      "1                                   n                    y               y   \n",
      "2                                   y                    ?               y   \n",
      "3                                   y                    n               ?   \n",
      "4                                   y                    n               y   \n",
      "..                                ...                  ...             ...   \n",
      "430                                 y                    y               y   \n",
      "431                                 y                    n               n   \n",
      "432                                 n                    y               y   \n",
      "433                                 n                    y               y   \n",
      "434                                 n                    y               y   \n",
      "\n",
      "    religious-groups-in-schools anti-satellite-test-ban  \\\n",
      "0                             y                       n   \n",
      "1                             y                       n   \n",
      "2                             y                       n   \n",
      "3                             y                       n   \n",
      "4                             y                       n   \n",
      "..                          ...                     ...   \n",
      "430                           y                       n   \n",
      "431                           n                       y   \n",
      "432                           y                       n   \n",
      "433                           y                       ?   \n",
      "434                           y                       n   \n",
      "\n",
      "    aid-to-nicaraguan-contras mx-missile immigration  \\\n",
      "0                           n          n           y   \n",
      "1                           n          n           n   \n",
      "2                           n          n           n   \n",
      "3                           n          n           n   \n",
      "4                           n          n           n   \n",
      "..                        ...        ...         ...   \n",
      "430                         n          y           y   \n",
      "431                         y          y           y   \n",
      "432                         n          n           n   \n",
      "433                         ?          ?           ?   \n",
      "434                         n          n           y   \n",
      "\n",
      "    synfuels-corporation-cutback education-spending superfund-right-to-sue  \\\n",
      "0                              ?                  y                      y   \n",
      "1                              n                  y                      y   \n",
      "2                              y                  n                      y   \n",
      "3                              y                  n                      y   \n",
      "4                              y                  ?                      y   \n",
      "..                           ...                ...                    ...   \n",
      "430                            n                  y                      y   \n",
      "431                            n                  n                      n   \n",
      "432                            y                  y                      y   \n",
      "433                            n                  y                      y   \n",
      "434                            n                  y                      y   \n",
      "\n",
      "    crime duty-free-exports export-administration-act-south-africa  \n",
      "0       y                 n                                      y  \n",
      "1       y                 n                                      ?  \n",
      "2       y                 n                                      n  \n",
      "3       n                 n                                      y  \n",
      "4       y                 y                                      y  \n",
      "..    ...               ...                                    ...  \n",
      "430     y                 n                                      y  \n",
      "431     n                 n                                      y  \n",
      "432     y                 n                                      y  \n",
      "433     y                 n                                      y  \n",
      "434     y                 ?                                      n  \n",
      "\n",
      "[435 rows x 18 columns]\n"
     ]
    }
   ],
   "source": [
    "print(pd_dataset)"
   ]
  },
  {
   "cell_type": "markdown",
   "metadata": {
    "id": "mrHZUFV-AEYh"
   },
   "source": [
    "### 2. Train/Test Split"
   ]
  },
  {
   "cell_type": "markdown",
   "metadata": {
    "id": "M5Odr83IAcYP"
   },
   "source": [
    "Fistlty we need to split our dataset into train and test. We will use 80% of dataset as our trainset and 20% od dataset as our testset. You can use functions included in *keras*, *scikit-learn*, or you can write your own:"
   ]
  },
  {
   "cell_type": "code",
   "execution_count": 12,
   "metadata": {
    "id": "24w7ksCcAddN"
   },
   "outputs": [],
   "source": [
    "# define a function for train and test split\n",
    "\n",
    "def train_test_split(pd_data: pd.DataFrame, test_ratio: float = 0.2) -> tuple:\n",
    "    pd_dataset = pd_data.copy()\n",
    "    pd_dataset = pd_dataset[pd_dataset.columns[1:]]\n",
    "    index = np.arange(len(pd_dataset))\n",
    "    index = np.random.permutation(index)\n",
    "    train_ammount = int(len(index)*test_ratio)\n",
    "    train_ids = index[train_ammount:]\n",
    "    test_ids = index[:train_ammount]\n",
    "    \n",
    "    train_dataset = pd_dataset[pd_dataset.index.isin(train_ids)].reset_index()\n",
    "    test_dataset = pd_dataset[pd_dataset.index.isin(test_ids)].reset_index()\n",
    "    \n",
    "    train_dataset = train_dataset[train_dataset.columns[1:]]\n",
    "    test_dataset = test_dataset[test_dataset.columns[1:]]\n",
    "\n",
    "    return train_dataset[train_dataset.columns[1:]], train_dataset[train_dataset.columns[0]], test_dataset[test_dataset.columns[1:]], test_dataset[test_dataset.columns[0]]\n"
   ]
  },
  {
   "cell_type": "code",
   "execution_count": 13,
   "metadata": {
    "id": "R1FOBHIe_76o"
   },
   "outputs": [],
   "source": [
    "x_train, y_train, x_test, y_test = train_test_split(pd_dataset)"
   ]
  },
  {
   "cell_type": "markdown",
   "metadata": {
    "id": "g1aUQ2K-BGZ5"
   },
   "source": [
    "### 3. Data examination"
   ]
  },
  {
   "cell_type": "markdown",
   "metadata": {
    "id": "iUXBgnYdgH7T"
   },
   "source": [
    "The task would be to examine the dataset. Check:\n",
    "\n",
    "1. Is it a classification of regression task?\n",
    "2. How many data samples do we have?\n",
    "3. How many features do we have?  \n",
    "4. What data types do we have in our dataset?\n",
    "5. Are there any missing values?\n",
    "6. How many labels do we have? \n"
   ]
  },
  {
   "cell_type": "code",
   "execution_count": 14,
   "metadata": {
    "colab": {
     "base_uri": "https://localhost:8080/",
     "height": 520
    },
    "executionInfo": {
     "elapsed": 510,
     "status": "ok",
     "timestamp": 1677926465987,
     "user": {
      "displayName": "Jan Bolcek",
      "userId": "11245949610672084450"
     },
     "user_tz": -60
    },
    "id": "0pKswr1YhMsS",
    "outputId": "49fe5473-7607-4e91-ba5b-bb1b524797ec"
   },
   "outputs": [
    {
     "name": "stdout",
     "output_type": "stream",
     "text": [
      "    handicapped-infants water-project-cost-sharing  \\\n",
      "0                     n                          y   \n",
      "1                     n                          y   \n",
      "2                     ?                          y   \n",
      "3                     n                          y   \n",
      "4                     n                          y   \n",
      "..                  ...                        ...   \n",
      "343                   y                          n   \n",
      "344                   n                          n   \n",
      "345                   n                          n   \n",
      "346                   n                          n   \n",
      "347                   n                          y   \n",
      "\n",
      "    adoption-of-the-budget-resolution physician-fee-freeze el-salvador-aid  \\\n",
      "0                                   n                    y               y   \n",
      "1                                   n                    y               y   \n",
      "2                                   y                    ?               y   \n",
      "3                                   y                    n               ?   \n",
      "4                                   y                    n               y   \n",
      "..                                ...                  ...             ...   \n",
      "343                                 y                    n               ?   \n",
      "344                                 y                    y               y   \n",
      "345                                 y                    n               n   \n",
      "346                                 n                    y               y   \n",
      "347                                 n                    y               y   \n",
      "\n",
      "    religious-groups-in-schools anti-satellite-test-ban  \\\n",
      "0                             y                       n   \n",
      "1                             y                       n   \n",
      "2                             y                       n   \n",
      "3                             y                       n   \n",
      "4                             y                       n   \n",
      "..                          ...                     ...   \n",
      "343                           n                       y   \n",
      "344                           y                       n   \n",
      "345                           n                       y   \n",
      "346                           y                       ?   \n",
      "347                           y                       n   \n",
      "\n",
      "    aid-to-nicaraguan-contras mx-missile immigration  \\\n",
      "0                           n          n           y   \n",
      "1                           n          n           n   \n",
      "2                           n          n           n   \n",
      "3                           n          n           n   \n",
      "4                           n          n           n   \n",
      "..                        ...        ...         ...   \n",
      "343                         y          y           y   \n",
      "344                         n          y           y   \n",
      "345                         y          y           y   \n",
      "346                         ?          ?           ?   \n",
      "347                         n          n           y   \n",
      "\n",
      "    synfuels-corporation-cutback education-spending superfund-right-to-sue  \\\n",
      "0                              ?                  y                      y   \n",
      "1                              n                  y                      y   \n",
      "2                              y                  n                      y   \n",
      "3                              y                  n                      y   \n",
      "4                              n                  n                      y   \n",
      "..                           ...                ...                    ...   \n",
      "343                            n                  y                      n   \n",
      "344                            n                  y                      y   \n",
      "345                            n                  n                      n   \n",
      "346                            n                  y                      y   \n",
      "347                            n                  y                      y   \n",
      "\n",
      "    crime duty-free-exports export-administration-act-south-africa  \n",
      "0       y                 n                                      y  \n",
      "1       y                 n                                      ?  \n",
      "2       y                 n                                      n  \n",
      "3       n                 n                                      y  \n",
      "4       y                 y                                      y  \n",
      "..    ...               ...                                    ...  \n",
      "343     ?                 y                                      y  \n",
      "344     y                 n                                      y  \n",
      "345     n                 n                                      y  \n",
      "346     y                 n                                      y  \n",
      "347     y                 ?                                      n  \n",
      "\n",
      "[348 rows x 16 columns]\n"
     ]
    }
   ],
   "source": [
    "print(x_train)"
   ]
  },
  {
   "cell_type": "markdown",
   "metadata": {
    "id": "aTxf4gaqrLge"
   },
   "source": [
    "### 4. Data preprocessing"
   ]
  },
  {
   "cell_type": "markdown",
   "metadata": {
    "id": "PcJ41-OtrOah"
   },
   "source": [
    "When you preprocess your traing data, do not forget that you need to apply the same preprocessing also for your test set. For example: If you decide to delete some columns in your train set, you have to delete the same columns in your test set. "
   ]
  },
  {
   "cell_type": "markdown",
   "metadata": {
    "id": "5DWPwLG1EWiQ"
   },
   "source": [
    "Possible preprocessing steps (try several and see the influence of your preprocessing on your results)\n",
    " - Replace missing values with any data imputation technique ( for example, the most occurring value in the column), then perform one-hot encoding or label encoding of your data\n",
    " - Consider the missing value to be the third category 'unknown' and then perform one-hot encoding or label encoding\n",
    "\n",
    "The target value also has to be encoded. This can be done by one-hot encoding or label encoding."
   ]
  },
  {
   "cell_type": "code",
   "execution_count": 15,
   "metadata": {
    "executionInfo": {
     "elapsed": 2,
     "status": "ok",
     "timestamp": 1677927156134,
     "user": {
      "displayName": "Jan Bolcek",
      "userId": "11245949610672084450"
     },
     "user_tz": -60
    },
    "id": "W66ufwuigEcG"
   },
   "outputs": [
    {
     "name": "stdout",
     "output_type": "stream",
     "text": [
      "(348, 16)\n"
     ]
    }
   ],
   "source": [
    "#WRITE YOUR CODE HERE\n",
    "X = x_train.replace(\"y\", 1.).replace(\"n\", 0.).replace(\"?\", 0.5)\n",
    "\n",
    "Y = y_train.replace(\"democrat\", True).replace(\"republican\", False)\n",
    "\n",
    "print(x_train.shape)"
   ]
  },
  {
   "cell_type": "markdown",
   "metadata": {
    "id": "DdmHivmkuGZy"
   },
   "source": [
    "### 5. Creating the model"
   ]
  },
  {
   "cell_type": "markdown",
   "metadata": {
    "id": "z4FBQOiJGGDa"
   },
   "source": [
    "1. Create your model using alteast one hidden layer. \n",
    "\n",
    "*hint: do not create too complex models, this is a very simple task, so it would be enought to use just few neurons in the hidden layers*"
   ]
  },
  {
   "cell_type": "code",
   "execution_count": 16,
   "metadata": {
    "executionInfo": {
     "elapsed": 243,
     "status": "ok",
     "timestamp": 1677927168041,
     "user": {
      "displayName": "Jan Bolcek",
      "userId": "11245949610672084450"
     },
     "user_tz": -60
    },
    "id": "tUGDXUEFs093"
   },
   "outputs": [],
   "source": [
    "# WRITE YOU CODE HERE\n",
    "model = Sequential()\n",
    "model.add(Dense(16, input_dim=16, activation='sigmoid'))\n",
    "model.add(Dense(1, activation='sigmoid'))"
   ]
  },
  {
   "cell_type": "markdown",
   "metadata": {
    "id": "87ZBo4g5Klno"
   },
   "source": [
    "2. Check what *model.summary()* does"
   ]
  },
  {
   "cell_type": "code",
   "execution_count": 17,
   "metadata": {
    "executionInfo": {
     "elapsed": 3,
     "status": "ok",
     "timestamp": 1677927175245,
     "user": {
      "displayName": "Jan Bolcek",
      "userId": "11245949610672084450"
     },
     "user_tz": -60
    },
    "id": "s2lwjf4Yu1Wh"
   },
   "outputs": [
    {
     "name": "stdout",
     "output_type": "stream",
     "text": [
      "Model: \"sequential_1\"\n",
      "_________________________________________________________________\n",
      " Layer (type)                Output Shape              Param #   \n",
      "=================================================================\n",
      " dense_2 (Dense)             (None, 16)                272       \n",
      "                                                                 \n",
      " dense_3 (Dense)             (None, 1)                 17        \n",
      "                                                                 \n",
      "=================================================================\n",
      "Total params: 289\n",
      "Trainable params: 289\n",
      "Non-trainable params: 0\n",
      "_________________________________________________________________\n"
     ]
    }
   ],
   "source": [
    "# WRITE YOU CODE HERE\n",
    "model.summary()"
   ]
  },
  {
   "cell_type": "markdown",
   "metadata": {
    "id": "ugHf36DoKrHT"
   },
   "source": [
    "3. Compile the model, choose a suitable loss function, choose gradient to descend optimizer and specify the learning rate, and choose accuracy as our metric"
   ]
  },
  {
   "cell_type": "code",
   "execution_count": 18,
   "metadata": {
    "executionInfo": {
     "elapsed": 321,
     "status": "ok",
     "timestamp": 1677927182156,
     "user": {
      "displayName": "Jan Bolcek",
      "userId": "11245949610672084450"
     },
     "user_tz": -60
    },
    "id": "ejSrDLDDu1w4"
   },
   "outputs": [],
   "source": [
    "# WRITE YOUR CODE HERE\n",
    "optimizer = tf.keras.optimizers.SGD(learning_rate=0.5)\n",
    "model.compile(loss='binary_crossentropy', optimizer=optimizer, metrics=['accuracy'])"
   ]
  },
  {
   "cell_type": "markdown",
   "metadata": {
    "id": "4Hc9SWvcMRzX"
   },
   "source": [
    "4. Train the model. Specify the number of epochs and batch size. Now is the time to create a validation dataset. Set 20% of dataset to be a validation dataset"
   ]
  },
  {
   "cell_type": "code",
   "execution_count": 19,
   "metadata": {
    "executionInfo": {
     "elapsed": 2,
     "status": "ok",
     "timestamp": 1677927206068,
     "user": {
      "displayName": "Jan Bolcek",
      "userId": "11245949610672084450"
     },
     "user_tz": -60
    },
    "id": "6UjQuXXCMEu2"
   },
   "outputs": [
    {
     "name": "stdout",
     "output_type": "stream",
     "text": [
      "Epoch 1/80\n",
      "348/348 [==============================] - 1s 926us/step - loss: 0.2603 - accuracy: 0.8764\n",
      "Epoch 2/80\n",
      "348/348 [==============================] - 0s 937us/step - loss: 0.1303 - accuracy: 0.9511\n",
      "Epoch 3/80\n",
      "348/348 [==============================] - 0s 946us/step - loss: 0.0934 - accuracy: 0.9655\n",
      "Epoch 4/80\n",
      "348/348 [==============================] - 0s 1ms/step - loss: 0.1163 - accuracy: 0.9540\n",
      "Epoch 5/80\n",
      "348/348 [==============================] - 0s 888us/step - loss: 0.0963 - accuracy: 0.9569\n",
      "Epoch 6/80\n",
      "348/348 [==============================] - 0s 917us/step - loss: 0.0832 - accuracy: 0.9684\n",
      "Epoch 7/80\n",
      "348/348 [==============================] - 0s 901us/step - loss: 0.0944 - accuracy: 0.9655\n",
      "Epoch 8/80\n",
      "348/348 [==============================] - 0s 920us/step - loss: 0.0853 - accuracy: 0.9684\n",
      "Epoch 9/80\n",
      "348/348 [==============================] - 0s 950us/step - loss: 0.0698 - accuracy: 0.9770\n",
      "Epoch 10/80\n",
      "348/348 [==============================] - 0s 913us/step - loss: 0.0688 - accuracy: 0.9741\n",
      "Epoch 11/80\n",
      "348/348 [==============================] - 0s 904us/step - loss: 0.0618 - accuracy: 0.9741\n",
      "Epoch 12/80\n",
      "348/348 [==============================] - 0s 853us/step - loss: 0.0734 - accuracy: 0.9684\n",
      "Epoch 13/80\n",
      "348/348 [==============================] - 0s 835us/step - loss: 0.0641 - accuracy: 0.9626\n",
      "Epoch 14/80\n",
      "348/348 [==============================] - 0s 865us/step - loss: 0.0606 - accuracy: 0.9684\n",
      "Epoch 15/80\n",
      "348/348 [==============================] - 0s 824us/step - loss: 0.0549 - accuracy: 0.9770\n",
      "Epoch 16/80\n",
      "348/348 [==============================] - 0s 967us/step - loss: 0.0506 - accuracy: 0.9770\n",
      "Epoch 17/80\n",
      "348/348 [==============================] - 0s 956us/step - loss: 0.0500 - accuracy: 0.9770\n",
      "Epoch 18/80\n",
      "348/348 [==============================] - 0s 1ms/step - loss: 0.0546 - accuracy: 0.9770\n",
      "Epoch 19/80\n",
      "348/348 [==============================] - 0s 1ms/step - loss: 0.0585 - accuracy: 0.9655\n",
      "Epoch 20/80\n",
      "348/348 [==============================] - 0s 1ms/step - loss: 0.0522 - accuracy: 0.9741\n",
      "Epoch 21/80\n",
      "348/348 [==============================] - 0s 971us/step - loss: 0.0373 - accuracy: 0.9828\n",
      "Epoch 22/80\n",
      "348/348 [==============================] - 0s 885us/step - loss: 0.0364 - accuracy: 0.9799\n",
      "Epoch 23/80\n",
      "348/348 [==============================] - 0s 956us/step - loss: 0.0334 - accuracy: 0.9828\n",
      "Epoch 24/80\n",
      "348/348 [==============================] - 0s 949us/step - loss: 0.0419 - accuracy: 0.9828\n",
      "Epoch 25/80\n",
      "348/348 [==============================] - 0s 965us/step - loss: 0.0354 - accuracy: 0.9828\n",
      "Epoch 26/80\n",
      "348/348 [==============================] - 0s 892us/step - loss: 0.0284 - accuracy: 0.9856\n",
      "Epoch 27/80\n",
      "348/348 [==============================] - 0s 935us/step - loss: 0.0294 - accuracy: 0.9885\n",
      "Epoch 28/80\n",
      "348/348 [==============================] - 0s 913us/step - loss: 0.0347 - accuracy: 0.9828\n",
      "Epoch 29/80\n",
      "348/348 [==============================] - 0s 891us/step - loss: 0.0247 - accuracy: 0.9856\n",
      "Epoch 30/80\n",
      "348/348 [==============================] - 0s 987us/step - loss: 0.0227 - accuracy: 0.9914\n",
      "Epoch 31/80\n",
      "348/348 [==============================] - 0s 931us/step - loss: 0.0275 - accuracy: 0.9914\n",
      "Epoch 32/80\n",
      "348/348 [==============================] - 0s 912us/step - loss: 0.0273 - accuracy: 0.9914\n",
      "Epoch 33/80\n",
      "348/348 [==============================] - 0s 877us/step - loss: 0.0262 - accuracy: 0.9885\n",
      "Epoch 34/80\n",
      "348/348 [==============================] - 0s 866us/step - loss: 0.0209 - accuracy: 0.9971\n",
      "Epoch 35/80\n",
      "348/348 [==============================] - 0s 914us/step - loss: 0.0202 - accuracy: 0.9971\n",
      "Epoch 36/80\n",
      "348/348 [==============================] - 0s 865us/step - loss: 0.0232 - accuracy: 0.9885\n",
      "Epoch 37/80\n",
      "348/348 [==============================] - 0s 860us/step - loss: 0.0188 - accuracy: 0.9943\n",
      "Epoch 38/80\n",
      "348/348 [==============================] - 0s 948us/step - loss: 0.0166 - accuracy: 0.9943\n",
      "Epoch 39/80\n",
      "348/348 [==============================] - 0s 947us/step - loss: 0.0203 - accuracy: 0.9914\n",
      "Epoch 40/80\n",
      "348/348 [==============================] - 0s 1ms/step - loss: 0.0157 - accuracy: 0.9914\n",
      "Epoch 41/80\n",
      "348/348 [==============================] - 0s 1ms/step - loss: 0.0207 - accuracy: 0.9914\n",
      "Epoch 42/80\n",
      "348/348 [==============================] - 0s 1ms/step - loss: 0.0156 - accuracy: 0.9943\n",
      "Epoch 43/80\n",
      "348/348 [==============================] - 0s 961us/step - loss: 0.0156 - accuracy: 0.9971\n",
      "Epoch 44/80\n",
      "348/348 [==============================] - 0s 901us/step - loss: 0.0137 - accuracy: 0.9914\n",
      "Epoch 45/80\n",
      "348/348 [==============================] - 0s 879us/step - loss: 0.0145 - accuracy: 0.9943\n",
      "Epoch 46/80\n",
      "348/348 [==============================] - 0s 876us/step - loss: 0.0098 - accuracy: 0.9971\n",
      "Epoch 47/80\n",
      "348/348 [==============================] - 0s 883us/step - loss: 0.0183 - accuracy: 0.9943\n",
      "Epoch 48/80\n",
      "348/348 [==============================] - 0s 909us/step - loss: 0.0158 - accuracy: 0.9943\n",
      "Epoch 49/80\n",
      "348/348 [==============================] - 0s 905us/step - loss: 0.0124 - accuracy: 0.9943\n",
      "Epoch 50/80\n",
      "348/348 [==============================] - 0s 923us/step - loss: 0.0089 - accuracy: 0.9971\n",
      "Epoch 51/80\n",
      "348/348 [==============================] - 0s 964us/step - loss: 0.0097 - accuracy: 0.9971\n",
      "Epoch 52/80\n",
      "348/348 [==============================] - 0s 929us/step - loss: 0.0144 - accuracy: 0.9943\n",
      "Epoch 53/80\n",
      "348/348 [==============================] - 0s 935us/step - loss: 0.0099 - accuracy: 0.9971\n",
      "Epoch 54/80\n",
      "348/348 [==============================] - 0s 898us/step - loss: 0.0087 - accuracy: 0.9971\n",
      "Epoch 55/80\n",
      "348/348 [==============================] - 0s 854us/step - loss: 0.0149 - accuracy: 0.9971\n",
      "Epoch 56/80\n",
      "348/348 [==============================] - 0s 952us/step - loss: 0.0123 - accuracy: 0.9914\n",
      "Epoch 57/80\n",
      "348/348 [==============================] - 0s 901us/step - loss: 0.0108 - accuracy: 0.9943\n",
      "Epoch 58/80\n",
      "348/348 [==============================] - 0s 933us/step - loss: 0.0084 - accuracy: 0.9971\n",
      "Epoch 59/80\n",
      "348/348 [==============================] - 0s 921us/step - loss: 0.0054 - accuracy: 1.0000\n",
      "Epoch 60/80\n",
      "348/348 [==============================] - 0s 968us/step - loss: 0.0114 - accuracy: 0.9943\n",
      "Epoch 61/80\n",
      "348/348 [==============================] - 0s 851us/step - loss: 0.0100 - accuracy: 0.9971\n",
      "Epoch 62/80\n",
      "348/348 [==============================] - 0s 909us/step - loss: 0.0109 - accuracy: 0.9971\n",
      "Epoch 63/80\n",
      "348/348 [==============================] - 0s 972us/step - loss: 0.0080 - accuracy: 0.9971\n",
      "Epoch 64/80\n",
      "348/348 [==============================] - 0s 1ms/step - loss: 0.0084 - accuracy: 0.9971\n",
      "Epoch 65/80\n",
      "348/348 [==============================] - 0s 919us/step - loss: 0.0067 - accuracy: 0.9971\n",
      "Epoch 66/80\n",
      "348/348 [==============================] - 0s 912us/step - loss: 0.0144 - accuracy: 0.9943\n",
      "Epoch 67/80\n",
      "348/348 [==============================] - 0s 900us/step - loss: 0.0094 - accuracy: 0.9971\n",
      "Epoch 68/80\n",
      "348/348 [==============================] - 0s 902us/step - loss: 0.0056 - accuracy: 0.9971\n",
      "Epoch 69/80\n",
      "348/348 [==============================] - 0s 899us/step - loss: 0.0114 - accuracy: 0.9943\n",
      "Epoch 70/80\n",
      "348/348 [==============================] - 0s 866us/step - loss: 0.0127 - accuracy: 0.9971\n",
      "Epoch 71/80\n",
      "348/348 [==============================] - 0s 881us/step - loss: 0.0082 - accuracy: 0.9971\n",
      "Epoch 72/80\n",
      "348/348 [==============================] - 0s 868us/step - loss: 0.0038 - accuracy: 1.0000\n",
      "Epoch 73/80\n",
      "348/348 [==============================] - 0s 986us/step - loss: 0.0054 - accuracy: 0.9971\n",
      "Epoch 74/80\n",
      "348/348 [==============================] - 0s 1ms/step - loss: 0.0039 - accuracy: 1.0000\n",
      "Epoch 75/80\n",
      "348/348 [==============================] - 0s 1ms/step - loss: 0.0027 - accuracy: 1.0000\n",
      "Epoch 76/80\n",
      "348/348 [==============================] - 0s 862us/step - loss: 0.0072 - accuracy: 0.9971\n",
      "Epoch 77/80\n",
      "348/348 [==============================] - 0s 863us/step - loss: 0.0077 - accuracy: 0.9943\n",
      "Epoch 78/80\n",
      "348/348 [==============================] - 0s 962us/step - loss: 0.0182 - accuracy: 0.9943\n",
      "Epoch 79/80\n",
      "348/348 [==============================] - 0s 1ms/step - loss: 0.0085 - accuracy: 0.9971\n",
      "Epoch 80/80\n",
      "348/348 [==============================] - 0s 953us/step - loss: 0.0049 - accuracy: 0.9971\n"
     ]
    }
   ],
   "source": [
    "#cWRITE YOUR CODE HERE\n",
    "history = model.fit(X, Y, epochs=80, batch_size=1)"
   ]
  },
  {
   "cell_type": "markdown",
   "metadata": {
    "id": "GQMbJKL8KHeL"
   },
   "source": [
    "### 7. Model Evaluation \n",
    "\n"
   ]
  },
  {
   "cell_type": "markdown",
   "metadata": {
    "id": "tzqLTyNOMtkG"
   },
   "source": [
    "1. First, apply the same preprocessing you did to train set to test set also"
   ]
  },
  {
   "cell_type": "code",
   "execution_count": 20,
   "metadata": {
    "executionInfo": {
     "elapsed": 2,
     "status": "ok",
     "timestamp": 1677927192551,
     "user": {
      "displayName": "Jan Bolcek",
      "userId": "11245949610672084450"
     },
     "user_tz": -60
    },
    "id": "fwPbro7dKVZJ"
   },
   "outputs": [
    {
     "name": "stdout",
     "output_type": "stream",
     "text": [
      "(87, 16)\n",
      "(87,)\n"
     ]
    }
   ],
   "source": [
    "# WRITE YOUR CODE HERE\n",
    "X_t = x_test.replace(\"y\", 1.).replace(\"n\", 0.).replace(\"?\", 0.5)\n",
    "\n",
    "Y_t = y_test.replace(\"democrat\", 1.).replace(\"republican\", 0.)\n",
    "print(X_t.shape)\n",
    "print(Y_t.shape)"
   ]
  },
  {
   "cell_type": "markdown",
   "metadata": {
    "id": "rE34DAnkM7jM"
   },
   "source": [
    "2. Evaluate the model, print final accuracy and loss"
   ]
  },
  {
   "cell_type": "code",
   "execution_count": 21,
   "metadata": {
    "executionInfo": {
     "elapsed": 302,
     "status": "ok",
     "timestamp": 1677927196045,
     "user": {
      "displayName": "Jan Bolcek",
      "userId": "11245949610672084450"
     },
     "user_tz": -60
    },
    "id": "kmmp_9vPwaBJ"
   },
   "outputs": [
    {
     "name": "stdout",
     "output_type": "stream",
     "text": [
      "3/3 [==============================] - 0s 2ms/step - loss: 0.2070 - accuracy: 0.9310\n",
      "Loss: 20.70\n",
      "Accuracy: 93.10\n"
     ]
    }
   ],
   "source": [
    "# WRITE YOUR CODE HERE\n",
    "loss, accuracy = model.evaluate(X_t, Y_t)\n",
    "print('Loss: {:.2f}\\nAccuracy: {:.2f}'.format(loss*100, accuracy*100))"
   ]
  },
  {
   "cell_type": "markdown",
   "metadata": {
    "id": "IOTKHtFsNEZV"
   },
   "source": [
    "3. Plot loss and validation loss depending on the training epochs into one graph. In another graph, plot accuracy and validation accuracy"
   ]
  },
  {
   "cell_type": "code",
   "execution_count": 22,
   "metadata": {
    "executionInfo": {
     "elapsed": 291,
     "status": "ok",
     "timestamp": 1677927200131,
     "user": {
      "displayName": "Jan Bolcek",
      "userId": "11245949610672084450"
     },
     "user_tz": -60
    },
    "id": "1SAkMeD4yA5x"
   },
   "outputs": [
    {
     "data": {
      "text/plain": "<matplotlib.legend.Legend at 0x7f86ac6ef520>"
     },
     "execution_count": 22,
     "metadata": {},
     "output_type": "execute_result"
    },
    {
     "data": {
      "text/plain": "<Figure size 640x480 with 2 Axes>",
      "image/png": "[encoded data removed]"
     },
     "metadata": {},
     "output_type": "display_data"
    }
   ],
   "source": [
    "# WRITE YOUR CODE HERE\n",
    "fig, ax1 = plt.subplots()\n",
    "ax2 = ax1.twinx()\n",
    "ax1.plot(history.history['loss'], label=\"loss\", color=\"blue\")\n",
    "ax2.plot(history.history['accuracy'], label=\"accuracy\", color=\"red\")\n",
    "ax1.set_xlabel('n epochs')\n",
    "ax1.set_ylabel('loss')\n",
    "ax2.set_ylabel('accuracy')\n",
    "ax1.legend()\n",
    "ax2.legend()"
   ]
  }
 ],
 "metadata": {
  "accelerator": "GPU",
  "colab": {
   "authorship_tag": "ABX9TyMi+S3/SXQacBwXu3y2l0J/",
   "mount_file_id": "1g2vVw_gN6L_osGs7K8jeViyb8H0dlE9k",
   "provenance": []
  },
  "gpuClass": "standard",
  "kernelspec": {
   "display_name": "Python 3 (ipykernel)",
   "language": "python",
   "name": "python3"
  },
  "language_info": {
   "codemirror_mode": {
    "name": "ipython",
    "version": 3
   },
   "file_extension": ".py",
   "mimetype": "text/x-python",
   "name": "python",
   "nbconvert_exporter": "python",
   "pygments_lexer": "ipython3",
   "version": "3.8.10"
  }
 },
 "nbformat": 4,
 "nbformat_minor": 4
}
